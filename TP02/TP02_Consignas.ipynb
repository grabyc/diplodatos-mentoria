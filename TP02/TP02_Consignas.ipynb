{
 "cells": [
  {
   "attachments": {},
   "cell_type": "markdown",
   "metadata": {},
   "source": [
    "# Mentoría Ciencia de datos aplicada a la predicción de licencias médicas y comportamiento de los colaboradores\n",
    "\n",
    "# Trabajo Práctico 2: Análisis Exploratorio y Curación\n",
    "\n",
    "Trabajar con el csv denominado data.csv y resolver las siguientes consignas:\n",
    "\n",
    "1) Analisis e imputación de valores faltantes, nulos y/o ruidosos en las columnas relevantes del dataset.\n",
    "\n",
    "    1.A) ¿Existe alguna relación entre los datos faltantes? Usar la librería missingno para resolver esta consigna. \n",
    "\n",
    "    1.B) Realizar la imputación de aquellas columnas con datos faltantes, justificar el método. \n",
    "    \n",
    "    1.C) Trabajar con las columnas dias_aprobados y dias_solicitados, observar si existe coherencia en las mismas y datos nulos o ruidosos que deban imputar.\n",
    "\n",
    "2) Observar si existen outliers en las columnas relevantes. Tomar una decisión con los mismos y justificarla.\n",
    "\n",
    "3) Trabajar con las columnas categóricas del dataset, decidir si corresponde realizar algún reagrupamiento, considerando su frecuencia. Ayuda: tener en cuenta la presencia de caracteres especiales y/o espacios vacíos en la columna diagnostico.\n",
    "\n",
    "    3.1) Para el reagrupamiento de la columna diagnostico, ayudarse de la base externa, https://icdcode.info/espanol/cie-10/codigos.html que contiene la clasificación y agrupación de diagnosticos a nivel internacional. Les dejamos el csv de la misma y una breve explicación de como utilizarla https://raw.githubusercontent.com/verasativa/CIE-10/master/cie-10.csv. Para la union de esta base externa con el dataframe de licencias, deberan usar el data_key.csv que le adjuntamos en este TP.\n",
    "\n",
    "4) A partir de la columna fecha_creacion, generar dos columnas extras temporales utilizando las escalas temporales que consideren adecuadas, por ejemplo: día, semana, quincena, mes, trimestre o semestre. Pueden utilizar la función resample de pandas.\n",
    "\n",
    "5) Generar y guardar el nuevo dataset con todas las tranformaciones realizadas, el cual sera el input de los siguientes tp de aprendizaje supervisado/no supervisado.\n",
    "\n"
   ]
  },
  {
   "attachments": {},
   "cell_type": "markdown",
   "metadata": {},
   "source": [
    "## Carga del dataset"
   ]
  },
  {
   "cell_type": "code",
   "execution_count": 1,
   "metadata": {},
   "outputs": [],
   "source": [
    "import pandas as pd\n",
    "import warnings\n",
    "warnings.filterwarnings(\"ignore\")\n",
    "\n",
    "url = 'https://raw.githubusercontent.com/MentoriaDiploDatos/Presentacion/main/data.csv'\n",
    "df = pd.read_csv(url, sep=';')"
   ]
  },
  {
   "cell_type": "code",
   "execution_count": 3,
   "metadata": {},
   "outputs": [
    {
     "data": {
      "text/html": [
       "<div>\n",
       "<style scoped>\n",
       "    .dataframe tbody tr th:only-of-type {\n",
       "        vertical-align: middle;\n",
       "    }\n",
       "\n",
       "    .dataframe tbody tr th {\n",
       "        vertical-align: top;\n",
       "    }\n",
       "\n",
       "    .dataframe thead th {\n",
       "        text-align: right;\n",
       "    }\n",
       "</style>\n",
       "<table border=\"1\" class=\"dataframe\">\n",
       "  <thead>\n",
       "    <tr style=\"text-align: right;\">\n",
       "      <th></th>\n",
       "      <th>numero_licencia</th>\n",
       "      <th>fecha_creacion</th>\n",
       "      <th>dispositivo_acceso</th>\n",
       "      <th>dias_solicitados</th>\n",
       "      <th>fecha_inicio</th>\n",
       "      <th>fecha_fin</th>\n",
       "      <th>diagnostico</th>\n",
       "      <th>id_diagnostico</th>\n",
       "      <th>id_usuario</th>\n",
       "      <th>fecha_nacimiento</th>\n",
       "      <th>genero</th>\n",
       "      <th>tipo_licencia</th>\n",
       "      <th>estado_civil</th>\n",
       "      <th>dias_aprobados</th>\n",
       "      <th>decision_medica</th>\n",
       "      <th>id_auditor</th>\n",
       "      <th>motivo_rechazo</th>\n",
       "      <th>categoria_diagnostico</th>\n",
       "    </tr>\n",
       "  </thead>\n",
       "  <tbody>\n",
       "    <tr>\n",
       "      <th>0</th>\n",
       "      <td>1</td>\n",
       "      <td>2021-01-01 00:10:10.418</td>\n",
       "      <td>APP</td>\n",
       "      <td>2.0</td>\n",
       "      <td>2021-01-01</td>\n",
       "      <td>2021-01-01</td>\n",
       "      <td>EFECTOS ADVERSOS DE VACUNAS VIRALES</td>\n",
       "      <td>NaN</td>\n",
       "      <td>15508</td>\n",
       "      <td>1979-11-28</td>\n",
       "      <td>FEMALE</td>\n",
       "      <td>Médica</td>\n",
       "      <td>OTHER</td>\n",
       "      <td>2.0</td>\n",
       "      <td>EDITAR_Y_APROBAR</td>\n",
       "      <td>14721.0</td>\n",
       "      <td>NaN</td>\n",
       "      <td>NaN</td>\n",
       "    </tr>\n",
       "    <tr>\n",
       "      <th>1</th>\n",
       "      <td>105</td>\n",
       "      <td>2021-01-02 14:14:20.330</td>\n",
       "      <td>APP</td>\n",
       "      <td>2.0</td>\n",
       "      <td>2021-01-02</td>\n",
       "      <td>2021-01-03</td>\n",
       "      <td>EFECTOS ADVERSOS DE VACUNAS VIRALES</td>\n",
       "      <td>NaN</td>\n",
       "      <td>15508</td>\n",
       "      <td>1979-11-08</td>\n",
       "      <td>FEMALE</td>\n",
       "      <td>Médica</td>\n",
       "      <td>OTHER</td>\n",
       "      <td>2.0</td>\n",
       "      <td>EDITAR_Y_APROBAR</td>\n",
       "      <td>14721.0</td>\n",
       "      <td>NaN</td>\n",
       "      <td>NaN</td>\n",
       "    </tr>\n",
       "  </tbody>\n",
       "</table>\n",
       "</div>"
      ],
      "text/plain": [
       "   numero_licencia           fecha_creacion dispositivo_acceso  \\\n",
       "0                1  2021-01-01 00:10:10.418                APP   \n",
       "1              105  2021-01-02 14:14:20.330                APP   \n",
       "\n",
       "   dias_solicitados fecha_inicio   fecha_fin  \\\n",
       "0               2.0   2021-01-01  2021-01-01   \n",
       "1               2.0   2021-01-02  2021-01-03   \n",
       "\n",
       "                           diagnostico  id_diagnostico  id_usuario  \\\n",
       "0  EFECTOS ADVERSOS DE VACUNAS VIRALES             NaN       15508   \n",
       "1  EFECTOS ADVERSOS DE VACUNAS VIRALES             NaN       15508   \n",
       "\n",
       "  fecha_nacimiento  genero tipo_licencia estado_civil  dias_aprobados  \\\n",
       "0       1979-11-28  FEMALE        Médica        OTHER             2.0   \n",
       "1       1979-11-08  FEMALE        Médica        OTHER             2.0   \n",
       "\n",
       "    decision_medica  id_auditor motivo_rechazo categoria_diagnostico  \n",
       "0  EDITAR_Y_APROBAR     14721.0            NaN                   NaN  \n",
       "1  EDITAR_Y_APROBAR     14721.0            NaN                   NaN  "
      ]
     },
     "execution_count": 3,
     "metadata": {},
     "output_type": "execute_result"
    }
   ],
   "source": [
    "df.head(2)"
   ]
  },
  {
   "cell_type": "code",
   "execution_count": 2,
   "metadata": {},
   "outputs": [],
   "source": [
    "url_key = 'https://raw.githubusercontent.com/MentoriaDiploDatos/Exploracion-Y-Curacion/main/data_key.csv'\n",
    "keys = pd.read_csv(url_key, sep=';')"
   ]
  },
  {
   "cell_type": "code",
   "execution_count": 153,
   "metadata": {},
   "outputs": [
    {
     "data": {
      "text/html": [
       "<div>\n",
       "<style scoped>\n",
       "    .dataframe tbody tr th:only-of-type {\n",
       "        vertical-align: middle;\n",
       "    }\n",
       "\n",
       "    .dataframe tbody tr th {\n",
       "        vertical-align: top;\n",
       "    }\n",
       "\n",
       "    .dataframe thead th {\n",
       "        text-align: right;\n",
       "    }\n",
       "</style>\n",
       "<table border=\"1\" class=\"dataframe\">\n",
       "  <thead>\n",
       "    <tr style=\"text-align: right;\">\n",
       "      <th></th>\n",
       "      <th>numero_licencia</th>\n",
       "      <th>key</th>\n",
       "    </tr>\n",
       "  </thead>\n",
       "  <tbody>\n",
       "    <tr>\n",
       "      <th>218736</th>\n",
       "      <td>272692</td>\n",
       "      <td>U07.2</td>\n",
       "    </tr>\n",
       "    <tr>\n",
       "      <th>216119</th>\n",
       "      <td>244168</td>\n",
       "      <td>M79.1</td>\n",
       "    </tr>\n",
       "  </tbody>\n",
       "</table>\n",
       "</div>"
      ],
      "text/plain": [
       "        numero_licencia    key\n",
       "218736           272692  U07.2\n",
       "216119           244168  M79.1"
      ]
     },
     "execution_count": 153,
     "metadata": {},
     "output_type": "execute_result"
    }
   ],
   "source": [
    "keys.sample(2)"
   ]
  },
  {
   "attachments": {},
   "cell_type": "markdown",
   "metadata": {},
   "source": [
    "## Utilizacion de la base CIE.10 de agrupadores de diagnosticos"
   ]
  },
  {
   "cell_type": "code",
   "execution_count": 3,
   "metadata": {},
   "outputs": [],
   "source": [
    "df_cod =pd.read_csv('https://raw.githubusercontent.com/verasativa/CIE-10/master/cie-10.csv')"
   ]
  },
  {
   "attachments": {},
   "cell_type": "markdown",
   "metadata": {},
   "source": [
    "Veamos el diagnostico correspondiente a la key A02, en este caso se corresponde con la descripcion Otras infecciones debidas a Salmonella."
   ]
  },
  {
   "cell_type": "code",
   "execution_count": 155,
   "metadata": {},
   "outputs": [
    {
     "data": {
      "text/html": [
       "<div>\n",
       "<style scoped>\n",
       "    .dataframe tbody tr th:only-of-type {\n",
       "        vertical-align: middle;\n",
       "    }\n",
       "\n",
       "    .dataframe tbody tr th {\n",
       "        vertical-align: top;\n",
       "    }\n",
       "\n",
       "    .dataframe thead th {\n",
       "        text-align: right;\n",
       "    }\n",
       "</style>\n",
       "<table border=\"1\" class=\"dataframe\">\n",
       "  <thead>\n",
       "    <tr style=\"text-align: right;\">\n",
       "      <th></th>\n",
       "      <th>code</th>\n",
       "      <th>code_0</th>\n",
       "      <th>code_1</th>\n",
       "      <th>code_2</th>\n",
       "      <th>code_3</th>\n",
       "      <th>code_4</th>\n",
       "      <th>description</th>\n",
       "      <th>level</th>\n",
       "      <th>source</th>\n",
       "    </tr>\n",
       "  </thead>\n",
       "  <tbody>\n",
       "    <tr>\n",
       "      <th>375</th>\n",
       "      <td>A02</td>\n",
       "      <td>A00-B99</td>\n",
       "      <td>A00-A09</td>\n",
       "      <td>NaN</td>\n",
       "      <td>NaN</td>\n",
       "      <td>NaN</td>\n",
       "      <td>Otras infecciones debidas a Salmonella</td>\n",
       "      <td>2</td>\n",
       "      <td>icdcode.info</td>\n",
       "    </tr>\n",
       "  </tbody>\n",
       "</table>\n",
       "</div>"
      ],
      "text/plain": [
       "    code   code_0   code_1 code_2 code_3 code_4  \\\n",
       "375  A02  A00-B99  A00-A09    NaN    NaN    NaN   \n",
       "\n",
       "                                description  level        source  \n",
       "375  Otras infecciones debidas a Salmonella      2  icdcode.info  "
      ]
     },
     "execution_count": 155,
     "metadata": {},
     "output_type": "execute_result"
    }
   ],
   "source": [
    "df_cod[df_cod['code'] =='A02']"
   ]
  },
  {
   "attachments": {},
   "cell_type": "markdown",
   "metadata": {},
   "source": [
    "A partir de los grupos y subgrupos que figuran en las columnas code_0, code_1 y siguientes, podemos obtener las descripciones correspondientes.\n",
    "\n",
    "Observamos que el significado del grupo A00-B99, al que pertenece A02, es Ciertas enfermedades infecciosas y parasitarias (observar que el level es 0)"
   ]
  },
  {
   "cell_type": "code",
   "execution_count": 6,
   "metadata": {},
   "outputs": [
    {
     "data": {
      "text/html": [
       "<div>\n",
       "<style scoped>\n",
       "    .dataframe tbody tr th:only-of-type {\n",
       "        vertical-align: middle;\n",
       "    }\n",
       "\n",
       "    .dataframe tbody tr th {\n",
       "        vertical-align: top;\n",
       "    }\n",
       "\n",
       "    .dataframe thead th {\n",
       "        text-align: right;\n",
       "    }\n",
       "</style>\n",
       "<table border=\"1\" class=\"dataframe\">\n",
       "  <thead>\n",
       "    <tr style=\"text-align: right;\">\n",
       "      <th></th>\n",
       "      <th>code</th>\n",
       "      <th>code_0</th>\n",
       "      <th>code_1</th>\n",
       "      <th>code_2</th>\n",
       "      <th>code_3</th>\n",
       "      <th>code_4</th>\n",
       "      <th>description</th>\n",
       "      <th>level</th>\n",
       "      <th>source</th>\n",
       "    </tr>\n",
       "  </thead>\n",
       "  <tbody>\n",
       "    <tr>\n",
       "      <th>0</th>\n",
       "      <td>A00-B99</td>\n",
       "      <td>NaN</td>\n",
       "      <td>NaN</td>\n",
       "      <td>NaN</td>\n",
       "      <td>NaN</td>\n",
       "      <td>NaN</td>\n",
       "      <td>Ciertas enfermedades infecciosas y parasitarias</td>\n",
       "      <td>0</td>\n",
       "      <td>icdcode.info</td>\n",
       "    </tr>\n",
       "  </tbody>\n",
       "</table>\n",
       "</div>"
      ],
      "text/plain": [
       "      code code_0 code_1 code_2 code_3 code_4  \\\n",
       "0  A00-B99    NaN    NaN    NaN    NaN    NaN   \n",
       "\n",
       "                                       description  level        source  \n",
       "0  Ciertas enfermedades infecciosas y parasitarias      0  icdcode.info  "
      ]
     },
     "execution_count": 6,
     "metadata": {},
     "output_type": "execute_result"
    }
   ],
   "source": [
    "df_cod[df_cod['code'] == df_cod[df_cod['code'] =='A02']['code_0'].values[0]]"
   ]
  },
  {
   "attachments": {},
   "cell_type": "markdown",
   "metadata": {},
   "source": [
    "Tambien podemos obtener el grupo siguiente al que pertenece este diagnostico, de la siguiente manera (observar que el level es 1)."
   ]
  },
  {
   "cell_type": "code",
   "execution_count": 9,
   "metadata": {},
   "outputs": [
    {
     "data": {
      "text/html": [
       "<div>\n",
       "<style scoped>\n",
       "    .dataframe tbody tr th:only-of-type {\n",
       "        vertical-align: middle;\n",
       "    }\n",
       "\n",
       "    .dataframe tbody tr th {\n",
       "        vertical-align: top;\n",
       "    }\n",
       "\n",
       "    .dataframe thead th {\n",
       "        text-align: right;\n",
       "    }\n",
       "</style>\n",
       "<table border=\"1\" class=\"dataframe\">\n",
       "  <thead>\n",
       "    <tr style=\"text-align: right;\">\n",
       "      <th></th>\n",
       "      <th>code</th>\n",
       "      <th>code_0</th>\n",
       "      <th>code_1</th>\n",
       "      <th>code_2</th>\n",
       "      <th>code_3</th>\n",
       "      <th>code_4</th>\n",
       "      <th>description</th>\n",
       "      <th>level</th>\n",
       "      <th>source</th>\n",
       "    </tr>\n",
       "  </thead>\n",
       "  <tbody>\n",
       "    <tr>\n",
       "      <th>64</th>\n",
       "      <td>A00-A09</td>\n",
       "      <td>A00-B99</td>\n",
       "      <td>NaN</td>\n",
       "      <td>NaN</td>\n",
       "      <td>NaN</td>\n",
       "      <td>NaN</td>\n",
       "      <td>Enfermedades infecciosas intestinales</td>\n",
       "      <td>1</td>\n",
       "      <td>icdcode.info</td>\n",
       "    </tr>\n",
       "  </tbody>\n",
       "</table>\n",
       "</div>"
      ],
      "text/plain": [
       "       code   code_0 code_1 code_2 code_3 code_4  \\\n",
       "64  A00-A09  A00-B99    NaN    NaN    NaN    NaN   \n",
       "\n",
       "                              description  level        source  \n",
       "64  Enfermedades infecciosas intestinales      1  icdcode.info  "
      ]
     },
     "execution_count": 9,
     "metadata": {},
     "output_type": "execute_result"
    }
   ],
   "source": [
    "\n",
    "df_cod[df_cod['code'] == df_cod[df_cod['code'] =='A02']['code_1'].values[0]]"
   ]
  },
  {
   "attachments": {},
   "cell_type": "markdown",
   "metadata": {},
   "source": [
    "Un ejemplo de como podrian ir incorporando las descripciones de grupos y subgrupos a cada diagnostico individual, es haciendo joins del dataframe con si mismo utilizando como clave los codigos que corresponden."
   ]
  },
  {
   "cell_type": "code",
   "execution_count": 4,
   "metadata": {},
   "outputs": [],
   "source": [
    "df_complete_cod = df_cod.merge(df_cod[['code','description']], how='left',left_on='code_0',right_on='code')"
   ]
  },
  {
   "cell_type": "code",
   "execution_count": 5,
   "metadata": {},
   "outputs": [],
   "source": [
    "df_complete_cod.rename(columns={'code_x':'code', 'description_x':'description','description_y':'description_group_level0'},inplace=True)\n",
    "df_complete_cod.drop(columns=['code_y'],inplace=True)"
   ]
  },
  {
   "cell_type": "code",
   "execution_count": 12,
   "metadata": {},
   "outputs": [
    {
     "data": {
      "text/html": [
       "<div>\n",
       "<style scoped>\n",
       "    .dataframe tbody tr th:only-of-type {\n",
       "        vertical-align: middle;\n",
       "    }\n",
       "\n",
       "    .dataframe tbody tr th {\n",
       "        vertical-align: top;\n",
       "    }\n",
       "\n",
       "    .dataframe thead th {\n",
       "        text-align: right;\n",
       "    }\n",
       "</style>\n",
       "<table border=\"1\" class=\"dataframe\">\n",
       "  <thead>\n",
       "    <tr style=\"text-align: right;\">\n",
       "      <th></th>\n",
       "      <th>code</th>\n",
       "      <th>code_0</th>\n",
       "      <th>code_1</th>\n",
       "      <th>code_2</th>\n",
       "      <th>code_3</th>\n",
       "      <th>code_4</th>\n",
       "      <th>description</th>\n",
       "      <th>level</th>\n",
       "      <th>source</th>\n",
       "      <th>description_group_level0</th>\n",
       "    </tr>\n",
       "  </thead>\n",
       "  <tbody>\n",
       "    <tr>\n",
       "      <th>375</th>\n",
       "      <td>A02</td>\n",
       "      <td>A00-B99</td>\n",
       "      <td>A00-A09</td>\n",
       "      <td>NaN</td>\n",
       "      <td>NaN</td>\n",
       "      <td>NaN</td>\n",
       "      <td>Otras infecciones debidas a Salmonella</td>\n",
       "      <td>2</td>\n",
       "      <td>icdcode.info</td>\n",
       "      <td>Ciertas enfermedades infecciosas y parasitarias</td>\n",
       "    </tr>\n",
       "  </tbody>\n",
       "</table>\n",
       "</div>"
      ],
      "text/plain": [
       "    code   code_0   code_1 code_2 code_3 code_4  \\\n",
       "375  A02  A00-B99  A00-A09    NaN    NaN    NaN   \n",
       "\n",
       "                                description  level        source  \\\n",
       "375  Otras infecciones debidas a Salmonella      2  icdcode.info   \n",
       "\n",
       "                            description_group_level0  \n",
       "375  Ciertas enfermedades infecciosas y parasitarias  "
      ]
     },
     "execution_count": 12,
     "metadata": {},
     "output_type": "execute_result"
    }
   ],
   "source": [
    "df_complete_cod[df_complete_cod['code'] =='A02']"
   ]
  },
  {
   "attachments": {},
   "cell_type": "markdown",
   "metadata": {},
   "source": [
    "## Resolución"
   ]
  },
  {
   "attachments": {},
   "cell_type": "markdown",
   "metadata": {},
   "source": [
    "### 1) Análisis e imputación de valores faltantes, nulos y/o ruidosos"
   ]
  },
  {
   "attachments": {},
   "cell_type": "markdown",
   "metadata": {},
   "source": [
    "Se considera el dataset con la selección de columnas relevantes que se había seleccionado en el trabajo práctico n°1."
   ]
  },
  {
   "cell_type": "code",
   "execution_count": 6,
   "metadata": {},
   "outputs": [
    {
     "data": {
      "text/html": [
       "<div>\n",
       "<style scoped>\n",
       "    .dataframe tbody tr th:only-of-type {\n",
       "        vertical-align: middle;\n",
       "    }\n",
       "\n",
       "    .dataframe tbody tr th {\n",
       "        vertical-align: top;\n",
       "    }\n",
       "\n",
       "    .dataframe thead th {\n",
       "        text-align: right;\n",
       "    }\n",
       "</style>\n",
       "<table border=\"1\" class=\"dataframe\">\n",
       "  <thead>\n",
       "    <tr style=\"text-align: right;\">\n",
       "      <th></th>\n",
       "      <th>numero_licencia</th>\n",
       "      <th>fecha_creacion</th>\n",
       "      <th>dias_solicitados</th>\n",
       "      <th>fecha_inicio</th>\n",
       "      <th>fecha_fin</th>\n",
       "      <th>diagnostico</th>\n",
       "      <th>id_diagnostico</th>\n",
       "      <th>fecha_nacimiento</th>\n",
       "      <th>genero</th>\n",
       "      <th>tipo_licencia</th>\n",
       "      <th>estado_civil</th>\n",
       "      <th>dias_aprobados</th>\n",
       "      <th>decision_medica</th>\n",
       "      <th>id_auditor</th>\n",
       "      <th>motivo_rechazo</th>\n",
       "      <th>categoria_diagnostico</th>\n",
       "    </tr>\n",
       "  </thead>\n",
       "  <tbody>\n",
       "    <tr>\n",
       "      <th>0</th>\n",
       "      <td>1</td>\n",
       "      <td>2021-01-01 00:10:10.418</td>\n",
       "      <td>2.0</td>\n",
       "      <td>2021-01-01</td>\n",
       "      <td>2021-01-01</td>\n",
       "      <td>EFECTOS ADVERSOS DE VACUNAS VIRALES</td>\n",
       "      <td>NaN</td>\n",
       "      <td>1979-11-28</td>\n",
       "      <td>FEMALE</td>\n",
       "      <td>Médica</td>\n",
       "      <td>OTHER</td>\n",
       "      <td>2.0</td>\n",
       "      <td>EDITAR_Y_APROBAR</td>\n",
       "      <td>14721.0</td>\n",
       "      <td>NaN</td>\n",
       "      <td>NaN</td>\n",
       "    </tr>\n",
       "    <tr>\n",
       "      <th>1</th>\n",
       "      <td>105</td>\n",
       "      <td>2021-01-02 14:14:20.330</td>\n",
       "      <td>2.0</td>\n",
       "      <td>2021-01-02</td>\n",
       "      <td>2021-01-03</td>\n",
       "      <td>EFECTOS ADVERSOS DE VACUNAS VIRALES</td>\n",
       "      <td>NaN</td>\n",
       "      <td>1979-11-08</td>\n",
       "      <td>FEMALE</td>\n",
       "      <td>Médica</td>\n",
       "      <td>OTHER</td>\n",
       "      <td>2.0</td>\n",
       "      <td>EDITAR_Y_APROBAR</td>\n",
       "      <td>14721.0</td>\n",
       "      <td>NaN</td>\n",
       "      <td>NaN</td>\n",
       "    </tr>\n",
       "    <tr>\n",
       "      <th>2</th>\n",
       "      <td>113806</td>\n",
       "      <td>2021-08-26 09:32:09.396</td>\n",
       "      <td>1.0</td>\n",
       "      <td>2021-08-26</td>\n",
       "      <td>2021-08-26</td>\n",
       "      <td>COLELITIASIS</td>\n",
       "      <td>NaN</td>\n",
       "      <td>1980-10-25</td>\n",
       "      <td>FEMALE</td>\n",
       "      <td>Médica</td>\n",
       "      <td>SINGLE</td>\n",
       "      <td>0.0</td>\n",
       "      <td>RECHAZAR</td>\n",
       "      <td>14721.0</td>\n",
       "      <td>NaN</td>\n",
       "      <td>NaN</td>\n",
       "    </tr>\n",
       "    <tr>\n",
       "      <th>3</th>\n",
       "      <td>333787</td>\n",
       "      <td>2022-08-03 20:29:25.519</td>\n",
       "      <td>1.0</td>\n",
       "      <td>2022-08-03</td>\n",
       "      <td>2022-08-03</td>\n",
       "      <td>LUMBAGO NO ESPECIFICADO. CONTRACTURA DORSAL IN...</td>\n",
       "      <td>22.0</td>\n",
       "      <td>1986-12-01</td>\n",
       "      <td>MALE</td>\n",
       "      <td>Médica</td>\n",
       "      <td>SINGLE</td>\n",
       "      <td>1.0</td>\n",
       "      <td>EDITAR_Y_APROBAR</td>\n",
       "      <td>14721.0</td>\n",
       "      <td>Se aprueba la licencia</td>\n",
       "      <td>TRAUMATOLOGIA Y ORTOPEDIA</td>\n",
       "    </tr>\n",
       "    <tr>\n",
       "      <th>4</th>\n",
       "      <td>428763</td>\n",
       "      <td>2022-12-26 12:41:18.734</td>\n",
       "      <td>2.0</td>\n",
       "      <td>2022-12-26</td>\n",
       "      <td>2022-12-27</td>\n",
       "      <td>COLITIS Y GASTROENTERITIS NO INFECCIOSAS</td>\n",
       "      <td>6.0</td>\n",
       "      <td>1986-12-21</td>\n",
       "      <td>MALE</td>\n",
       "      <td>Médica</td>\n",
       "      <td>SINGLE</td>\n",
       "      <td>2.0</td>\n",
       "      <td>EDITAR_Y_APROBAR</td>\n",
       "      <td>14721.0</td>\n",
       "      <td>Se aprueba la licencia</td>\n",
       "      <td>GASTROINTESTINAL</td>\n",
       "    </tr>\n",
       "  </tbody>\n",
       "</table>\n",
       "</div>"
      ],
      "text/plain": [
       "   numero_licencia           fecha_creacion  dias_solicitados fecha_inicio  \\\n",
       "0                1  2021-01-01 00:10:10.418               2.0   2021-01-01   \n",
       "1              105  2021-01-02 14:14:20.330               2.0   2021-01-02   \n",
       "2           113806  2021-08-26 09:32:09.396               1.0   2021-08-26   \n",
       "3           333787  2022-08-03 20:29:25.519               1.0   2022-08-03   \n",
       "4           428763  2022-12-26 12:41:18.734               2.0   2022-12-26   \n",
       "\n",
       "    fecha_fin                                        diagnostico  \\\n",
       "0  2021-01-01                EFECTOS ADVERSOS DE VACUNAS VIRALES   \n",
       "1  2021-01-03                EFECTOS ADVERSOS DE VACUNAS VIRALES   \n",
       "2  2021-08-26                                       COLELITIASIS   \n",
       "3  2022-08-03  LUMBAGO NO ESPECIFICADO. CONTRACTURA DORSAL IN...   \n",
       "4  2022-12-27           COLITIS Y GASTROENTERITIS NO INFECCIOSAS   \n",
       "\n",
       "   id_diagnostico fecha_nacimiento  genero tipo_licencia estado_civil  \\\n",
       "0             NaN       1979-11-28  FEMALE        Médica        OTHER   \n",
       "1             NaN       1979-11-08  FEMALE        Médica        OTHER   \n",
       "2             NaN       1980-10-25  FEMALE        Médica       SINGLE   \n",
       "3            22.0       1986-12-01    MALE        Médica       SINGLE   \n",
       "4             6.0       1986-12-21    MALE        Médica       SINGLE   \n",
       "\n",
       "   dias_aprobados   decision_medica  id_auditor          motivo_rechazo  \\\n",
       "0             2.0  EDITAR_Y_APROBAR     14721.0                     NaN   \n",
       "1             2.0  EDITAR_Y_APROBAR     14721.0                     NaN   \n",
       "2             0.0          RECHAZAR     14721.0                     NaN   \n",
       "3             1.0  EDITAR_Y_APROBAR     14721.0  Se aprueba la licencia   \n",
       "4             2.0  EDITAR_Y_APROBAR     14721.0  Se aprueba la licencia   \n",
       "\n",
       "       categoria_diagnostico  \n",
       "0                        NaN  \n",
       "1                        NaN  \n",
       "2                        NaN  \n",
       "3  TRAUMATOLOGIA Y ORTOPEDIA  \n",
       "4           GASTROINTESTINAL  "
      ]
     },
     "execution_count": 6,
     "metadata": {},
     "output_type": "execute_result"
    }
   ],
   "source": [
    "# se crea un dataset con las columnas relevantes\n",
    "relevant_columns = ['numero_licencia', 'fecha_creacion', 'dias_solicitados', 'fecha_inicio', 'fecha_fin', 'diagnostico',\n",
    "                    'id_diagnostico', 'fecha_nacimiento', 'genero', 'tipo_licencia', 'estado_civil', \n",
    "                    'dias_aprobados', 'decision_medica', 'id_auditor', 'motivo_rechazo', 'categoria_diagnostico']\n",
    "relev_df = df[relevant_columns].copy()\n",
    "relev_df.head()"
   ]
  },
  {
   "attachments": {},
   "cell_type": "markdown",
   "metadata": {},
   "source": [
    "#### a. Valores faltantes, nulos y/o ruidosos\n",
    "\n",
    "Se explora el dataset para buscar **valores faltantes** (datos que no se encuentran presentes en una variable o columna determinada, ya sea porque no se registraron o porque se perdieron), y para buscar **valores ruidosos** (datos sospechosos o posiblemente erróneos)."
   ]
  },
  {
   "cell_type": "code",
   "execution_count": 7,
   "metadata": {},
   "outputs": [
    {
     "data": {
      "text/plain": [
       "numero_licencia               0\n",
       "fecha_creacion                0\n",
       "dias_solicitados           6035\n",
       "fecha_inicio                  0\n",
       "fecha_fin                     1\n",
       "diagnostico                   0\n",
       "id_diagnostico           157021\n",
       "fecha_nacimiento              0\n",
       "genero                        0\n",
       "tipo_licencia                 0\n",
       "estado_civil                  0\n",
       "dias_aprobados             3078\n",
       "decision_medica            3078\n",
       "id_auditor                 3079\n",
       "motivo_rechazo           242267\n",
       "categoria_diagnostico    158928\n",
       "dtype: int64"
      ]
     },
     "execution_count": 7,
     "metadata": {},
     "output_type": "execute_result"
    }
   ],
   "source": [
    "# se identifican los valores nulos (None o NaN)\n",
    "relev_df.isnull().sum()"
   ]
  },
  {
   "cell_type": "code",
   "execution_count": 8,
   "metadata": {},
   "outputs": [
    {
     "data": {
      "text/plain": [
       "<Axes: >"
      ]
     },
     "execution_count": 8,
     "metadata": {},
     "output_type": "execute_result"
    },
    {
     "data": {
      "image/png": "[encoded data removed]",
      "text/plain": [
       "<Figure size 1200x600 with 3 Axes>"
      ]
     },
     "metadata": {},
     "output_type": "display_data"
    },
    {
     "data": {
      "image/png": "[encoded data removed]",
      "text/plain": [
       "<Figure size 1200x600 with 2 Axes>"
      ]
     },
     "metadata": {},
     "output_type": "display_data"
    },
    {
     "data": {
      "image/png": "[encoded data removed]",
      "text/plain": [
       "<Figure size 1200x600 with 2 Axes>"
      ]
     },
     "metadata": {},
     "output_type": "display_data"
    }
   ],
   "source": [
    "import missingno as msno\n",
    "\n",
    "msno.bar(relev_df,figsize=(12, 6), sort=\"ascending\",fontsize=12, color='orange')\n",
    "msno.matrix(relev_df,figsize=(12, 6), fontsize=12, color=[0,0,0.2])\n",
    "msno.heatmap(relev_df,figsize=(12, 6), fontsize=12)"
   ]
  },
  {
   "attachments": {},
   "cell_type": "markdown",
   "metadata": {},
   "source": [
    "El uso de la librería *missingno* nos revela valores faltantes en las siguientes columnas:\n",
    "\n",
    "- fecha_fin\n",
    "- decision_medica\n",
    "- dias_aprobados\n",
    "- id_auditor\n",
    "- dias_solicitados\n",
    "- id_diagnostico\n",
    "- categoria_diagnostico\n",
    "- motivo_rechazo"
   ]
  },
  {
   "attachments": {},
   "cell_type": "markdown",
   "metadata": {},
   "source": [
    "##### i) Registros sin auditar\n",
    "\n",
    "El análisis previo nos permite identificar un conjunto de variables con valores faltantes con una correlación total (corr=1). Estas variables son:\n",
    "\n",
    " - id_auditor\n",
    " - decision_medica\n",
    " - dias_aprobados\n",
    "\n",
    " Se observa que en el caso que un valor falta en una columna, falta en las otras; esto podría deberse a que los tres datos se completan cuando la solicitud es auditada; la ausencia de valores podría indicar que los registros no fueron auditados.\n",
    "\n",
    " > Nota: se confirmó con el proveedor del conjunto de datos que algunas solicitudes pueden ser aprobadas automáticamente sin ser auditadas al cumplir ciertos criterios; esto explicaría los valores faltantes en estas tres columnas.\n",
    "\n",
    " La solución propuesta es eliminar las filas sin auditar, ya que los valores faltantes no superan el 1% del dataset y no contribuyen en forma directa a resolver la hipótesis planteada inicialmente en el trabajo práctico n°1."
   ]
  },
  {
   "attachments": {},
   "cell_type": "markdown",
   "metadata": {},
   "source": [
    "##### ii) Registros sin diagnóstico\n",
    "\n",
    "También es posible identificar un segundo conjunto de variables con valores faltantes con una correlación alta (corr>0.7). Estas variables son:\n",
    "\n",
    " - id_diagnostico\n",
    " - categoria_diagnostico\n",
    " - motivo_rechazo\n",
    "\n",
    "En este caso se observa que la ausencia de valores en estas columnas se ubica entre un 40% y un 60% del total de observaciones.\n",
    "\n",
    "Por el alto grado de correlación, en particular entre el par *id_diagnostico* y *categoria_diagnostico*, se descarta que se trate de valores faltantes completamenta al azar (MCAR). \n",
    "\n",
    "Para resolver los faltantes en el par *id_diagnostico* y *categoria_diagnostico* se propone imputar dichos valores considerando el valor existente en la columna *diagnostico* e intentando recuperar los valores faltantes cruzando esa columna con los datos existentes en la base del CIE-10.\n",
    "\n",
    "En el caso del campo *motivo_rechazo*, se puede asignar a los valores faltantes un valor arbitrario fuera del rango actual de valores de la variable (por ej, *NO SE REGISTRA MOTIVO DE RECHAZO*)"
   ]
  },
  {
   "attachments": {},
   "cell_type": "markdown",
   "metadata": {},
   "source": [
    "##### iii) Registros sin fecha de fin\n",
    "\n",
    "Por tratarse de un solo registro en todo el dataset, se limita el análisis de los posibles motivos de la falta del data como tambián el esfuerzo por imputarlo usando alguna técnica; en cambio, se decide simplemente descartar el registro."
   ]
  },
  {
   "attachments": {},
   "cell_type": "markdown",
   "metadata": {},
   "source": [
    "##### iv) Registros sin días solicitados\n",
    "\n",
    " > Nota: se confirmó con el proveedor del conjunto de datos que por la estructura de la base de datos y las consultas que se realizaron para extraer el dataset, es posible que los datos relacionados a dias solicitados y dias aprobados no sean del todo consistentes; según se pudo averiguar por cada solicitud de licencia se crea un registro en una tabla de solicitudes en la base de datos, pero luego los datos dias_solicitados y dias_aprobados se van modificando a lo largo de un flujo de trabajo de seguimiento y auditoría de la solicitud; como los datos recuperados por la consulta parecieran corresponder a los datos existentes en la última actuación realizada sobre la solicitud, es posible que los datos finalmente exportados por la consulta a este dataset no contengan la información que refleje la realidad de la decisión tomada sobre la misma.\n",
    " \n",
    " > En particular, se pudo averiguar que los dias solicitados faltantes corresponden a un caso particular de licencias médicas: las licencias médicas por hospitalización, las cuales son aprobadas sin ser solicitadas por el trabajador."
   ]
  },
  {
   "attachments": {},
   "cell_type": "markdown",
   "metadata": {},
   "source": [
    "Como se muestra a continuación, se observa una coincidencia en la cantidad de valores nulos en la columna *días_solicitados* y la cantidad de valores \"Médica por Hospitalización\" en la columna *tipo_licencia*"
   ]
  },
  {
   "cell_type": "code",
   "execution_count": 11,
   "metadata": {},
   "outputs": [
    {
     "name": "stdout",
     "output_type": "stream",
     "text": [
      "Cant. de registros con valores nulos en dias_solicitados: \t\t\t\t 6035\n",
      "Cant. de registros con valores 'Médica por hospitalización' en tipo_licencia: \t\t 6034\n"
     ]
    }
   ],
   "source": [
    "print(\"Cant. de registros con valores nulos en dias_solicitados: \\t\\t\\t\\t\", relev_df['dias_solicitados'].isnull().value_counts()[True])\n",
    "print(\"Cant. de registros con valores 'Médica por hospitalización' en tipo_licencia: \\t\\t\", relev_df['tipo_licencia'].value_counts()['Médica por Hospitalización'])"
   ]
  },
  {
   "attachments": {},
   "cell_type": "markdown",
   "metadata": {},
   "source": [
    "Luego se puede comprobar que son exactamente los mismos registros a excepción de uno. El registro que no cumple ambas condiciones será analizado a continuación."
   ]
  },
  {
   "cell_type": "code",
   "execution_count": 7,
   "metadata": {},
   "outputs": [
    {
     "data": {
      "text/html": [
       "<div>\n",
       "<style scoped>\n",
       "    .dataframe tbody tr th:only-of-type {\n",
       "        vertical-align: middle;\n",
       "    }\n",
       "\n",
       "    .dataframe tbody tr th {\n",
       "        vertical-align: top;\n",
       "    }\n",
       "\n",
       "    .dataframe thead th {\n",
       "        text-align: right;\n",
       "    }\n",
       "</style>\n",
       "<table border=\"1\" class=\"dataframe\">\n",
       "  <thead>\n",
       "    <tr style=\"text-align: right;\">\n",
       "      <th></th>\n",
       "      <th>numero_licencia</th>\n",
       "      <th>fecha_creacion</th>\n",
       "      <th>dias_solicitados</th>\n",
       "      <th>fecha_inicio</th>\n",
       "      <th>fecha_fin</th>\n",
       "      <th>diagnostico</th>\n",
       "      <th>id_diagnostico</th>\n",
       "      <th>fecha_nacimiento</th>\n",
       "      <th>genero</th>\n",
       "      <th>tipo_licencia</th>\n",
       "      <th>estado_civil</th>\n",
       "      <th>dias_aprobados</th>\n",
       "      <th>decision_medica</th>\n",
       "      <th>id_auditor</th>\n",
       "      <th>motivo_rechazo</th>\n",
       "      <th>categoria_diagnostico</th>\n",
       "    </tr>\n",
       "  </thead>\n",
       "  <tbody>\n",
       "    <tr>\n",
       "      <th>308</th>\n",
       "      <td>1804</td>\n",
       "      <td>2021-01-18 12:29:24.615</td>\n",
       "      <td>NaN</td>\n",
       "      <td>2021-01-18</td>\n",
       "      <td>2021-01-20</td>\n",
       "      <td>COVID SOSPECHOSO</td>\n",
       "      <td>NaN</td>\n",
       "      <td>1971-10-31</td>\n",
       "      <td>MALE</td>\n",
       "      <td>Médica por Hospitalización</td>\n",
       "      <td>MARRIED</td>\n",
       "      <td>3.0</td>\n",
       "      <td>EDITAR_Y_APROBAR</td>\n",
       "      <td>14721.0</td>\n",
       "      <td>NaN</td>\n",
       "      <td>NaN</td>\n",
       "    </tr>\n",
       "    <tr>\n",
       "      <th>591</th>\n",
       "      <td>5496</td>\n",
       "      <td>2021-02-15 10:13:29.838</td>\n",
       "      <td>NaN</td>\n",
       "      <td>2021-02-14</td>\n",
       "      <td>2021-03-06</td>\n",
       "      <td>COVID POSITIVO</td>\n",
       "      <td>NaN</td>\n",
       "      <td>1963-07-22</td>\n",
       "      <td>MALE</td>\n",
       "      <td>Médica por Hospitalización</td>\n",
       "      <td>OTHER</td>\n",
       "      <td>21.0</td>\n",
       "      <td>EDITAR_Y_APROBAR</td>\n",
       "      <td>14721.0</td>\n",
       "      <td>NaN</td>\n",
       "      <td>NaN</td>\n",
       "    </tr>\n",
       "    <tr>\n",
       "      <th>1044</th>\n",
       "      <td>7415</td>\n",
       "      <td>2021-02-24 10:39:45.911</td>\n",
       "      <td>NaN</td>\n",
       "      <td>2021-02-24</td>\n",
       "      <td>2021-03-06</td>\n",
       "      <td>COVID POSITIVO</td>\n",
       "      <td>NaN</td>\n",
       "      <td>1985-09-02</td>\n",
       "      <td>FEMALE</td>\n",
       "      <td>Médica por Hospitalización</td>\n",
       "      <td>OTHER</td>\n",
       "      <td>11.0</td>\n",
       "      <td>EDITAR_Y_APROBAR</td>\n",
       "      <td>14721.0</td>\n",
       "      <td>NaN</td>\n",
       "      <td>NaN</td>\n",
       "    </tr>\n",
       "    <tr>\n",
       "      <th>1106</th>\n",
       "      <td>7802</td>\n",
       "      <td>2021-02-25 15:48:53.205</td>\n",
       "      <td>NaN</td>\n",
       "      <td>2021-02-24</td>\n",
       "      <td>2021-02-24</td>\n",
       "      <td>COVID POSITIVO</td>\n",
       "      <td>NaN</td>\n",
       "      <td>1977-02-25</td>\n",
       "      <td>FEMALE</td>\n",
       "      <td>Médica por Hospitalización</td>\n",
       "      <td>SINGLE</td>\n",
       "      <td>0.0</td>\n",
       "      <td>RECHAZAR</td>\n",
       "      <td>14721.0</td>\n",
       "      <td>NaN</td>\n",
       "      <td>NaN</td>\n",
       "    </tr>\n",
       "    <tr>\n",
       "      <th>11724</th>\n",
       "      <td>21382</td>\n",
       "      <td>2021-03-31 15:35:26.264</td>\n",
       "      <td>NaN</td>\n",
       "      <td>2021-03-31</td>\n",
       "      <td>2021-03-31</td>\n",
       "      <td>COLECISTECTOMIA</td>\n",
       "      <td>NaN</td>\n",
       "      <td>1989-11-16</td>\n",
       "      <td>MALE</td>\n",
       "      <td>Médica por Hospitalización</td>\n",
       "      <td>SINGLE</td>\n",
       "      <td>1.0</td>\n",
       "      <td>EDITAR_Y_APROBAR</td>\n",
       "      <td>6233.0</td>\n",
       "      <td>NaN</td>\n",
       "      <td>NaN</td>\n",
       "    </tr>\n",
       "    <tr>\n",
       "      <th>...</th>\n",
       "      <td>...</td>\n",
       "      <td>...</td>\n",
       "      <td>...</td>\n",
       "      <td>...</td>\n",
       "      <td>...</td>\n",
       "      <td>...</td>\n",
       "      <td>...</td>\n",
       "      <td>...</td>\n",
       "      <td>...</td>\n",
       "      <td>...</td>\n",
       "      <td>...</td>\n",
       "      <td>...</td>\n",
       "      <td>...</td>\n",
       "      <td>...</td>\n",
       "      <td>...</td>\n",
       "      <td>...</td>\n",
       "    </tr>\n",
       "    <tr>\n",
       "      <th>422223</th>\n",
       "      <td>191777</td>\n",
       "      <td>2021-12-10 12:12:36.050</td>\n",
       "      <td>NaN</td>\n",
       "      <td>2021-11-30</td>\n",
       "      <td>2021-12-09</td>\n",
       "      <td>COLECISTECTOMIA</td>\n",
       "      <td>97.0</td>\n",
       "      <td>1985-03-31</td>\n",
       "      <td>MALE</td>\n",
       "      <td>Médica por Hospitalización</td>\n",
       "      <td>MARRIED</td>\n",
       "      <td>10.0</td>\n",
       "      <td>EDITAR_Y_APROBAR</td>\n",
       "      <td>1056.0</td>\n",
       "      <td>Se aprueba la licencia</td>\n",
       "      <td>NaN</td>\n",
       "    </tr>\n",
       "    <tr>\n",
       "      <th>423635</th>\n",
       "      <td>1297</td>\n",
       "      <td>2021-01-13 17:17:20.919</td>\n",
       "      <td>NaN</td>\n",
       "      <td>2021-01-09</td>\n",
       "      <td>2021-01-09</td>\n",
       "      <td>DOLOR ABDOMINAL Y PELVICO</td>\n",
       "      <td>NaN</td>\n",
       "      <td>1966-08-28</td>\n",
       "      <td>FEMALE</td>\n",
       "      <td>Médica por Hospitalización</td>\n",
       "      <td>OTHER</td>\n",
       "      <td>0.0</td>\n",
       "      <td>RECHAZAR</td>\n",
       "      <td>11625.0</td>\n",
       "      <td>NaN</td>\n",
       "      <td>NaN</td>\n",
       "    </tr>\n",
       "    <tr>\n",
       "      <th>429686</th>\n",
       "      <td>1021</td>\n",
       "      <td>2021-01-11 16:08:57.010</td>\n",
       "      <td>NaN</td>\n",
       "      <td>2021-01-05</td>\n",
       "      <td>2021-01-24</td>\n",
       "      <td>INFARTO CEREBRAL (ACV)</td>\n",
       "      <td>NaN</td>\n",
       "      <td>1960-10-19</td>\n",
       "      <td>MALE</td>\n",
       "      <td>Médica por Hospitalización</td>\n",
       "      <td>MARRIED</td>\n",
       "      <td>20.0</td>\n",
       "      <td>EDITAR_Y_APROBAR</td>\n",
       "      <td>4502.0</td>\n",
       "      <td>NaN</td>\n",
       "      <td>NaN</td>\n",
       "    </tr>\n",
       "    <tr>\n",
       "      <th>429692</th>\n",
       "      <td>213461</td>\n",
       "      <td>2022-01-26 09:38:27.688</td>\n",
       "      <td>NaN</td>\n",
       "      <td>2022-01-13</td>\n",
       "      <td>2022-02-04</td>\n",
       "      <td>Condición de salud posterior a COVID-19 (Sindr...</td>\n",
       "      <td>68.0</td>\n",
       "      <td>1963-10-24</td>\n",
       "      <td>MALE</td>\n",
       "      <td>Médica por Hospitalización</td>\n",
       "      <td>OTHER</td>\n",
       "      <td>23.0</td>\n",
       "      <td>EDITAR_Y_APROBAR</td>\n",
       "      <td>4502.0</td>\n",
       "      <td>Diagnostico no valido</td>\n",
       "      <td>INFECCIONES</td>\n",
       "    </tr>\n",
       "    <tr>\n",
       "      <th>429694</th>\n",
       "      <td>157762</td>\n",
       "      <td>2021-10-14 09:53:35.019</td>\n",
       "      <td>NaN</td>\n",
       "      <td>2021-10-13</td>\n",
       "      <td>2021-11-02</td>\n",
       "      <td>APENDICECTOMIA</td>\n",
       "      <td>143.0</td>\n",
       "      <td>1991-09-27</td>\n",
       "      <td>FEMALE</td>\n",
       "      <td>Médica por Hospitalización</td>\n",
       "      <td>SINGLE</td>\n",
       "      <td>21.0</td>\n",
       "      <td>EDITAR_Y_APROBAR</td>\n",
       "      <td>4502.0</td>\n",
       "      <td>NaN</td>\n",
       "      <td>NaN</td>\n",
       "    </tr>\n",
       "  </tbody>\n",
       "</table>\n",
       "<p>6034 rows × 16 columns</p>\n",
       "</div>"
      ],
      "text/plain": [
       "        numero_licencia           fecha_creacion  dias_solicitados  \\\n",
       "308                1804  2021-01-18 12:29:24.615               NaN   \n",
       "591                5496  2021-02-15 10:13:29.838               NaN   \n",
       "1044               7415  2021-02-24 10:39:45.911               NaN   \n",
       "1106               7802  2021-02-25 15:48:53.205               NaN   \n",
       "11724             21382  2021-03-31 15:35:26.264               NaN   \n",
       "...                 ...                      ...               ...   \n",
       "422223           191777  2021-12-10 12:12:36.050               NaN   \n",
       "423635             1297  2021-01-13 17:17:20.919               NaN   \n",
       "429686             1021  2021-01-11 16:08:57.010               NaN   \n",
       "429692           213461  2022-01-26 09:38:27.688               NaN   \n",
       "429694           157762  2021-10-14 09:53:35.019               NaN   \n",
       "\n",
       "       fecha_inicio   fecha_fin  \\\n",
       "308      2021-01-18  2021-01-20   \n",
       "591      2021-02-14  2021-03-06   \n",
       "1044     2021-02-24  2021-03-06   \n",
       "1106     2021-02-24  2021-02-24   \n",
       "11724    2021-03-31  2021-03-31   \n",
       "...             ...         ...   \n",
       "422223   2021-11-30  2021-12-09   \n",
       "423635   2021-01-09  2021-01-09   \n",
       "429686   2021-01-05  2021-01-24   \n",
       "429692   2022-01-13  2022-02-04   \n",
       "429694   2021-10-13  2021-11-02   \n",
       "\n",
       "                                              diagnostico  id_diagnostico  \\\n",
       "308                                      COVID SOSPECHOSO             NaN   \n",
       "591                                        COVID POSITIVO             NaN   \n",
       "1044                                       COVID POSITIVO             NaN   \n",
       "1106                                       COVID POSITIVO             NaN   \n",
       "11724                                     COLECISTECTOMIA             NaN   \n",
       "...                                                   ...             ...   \n",
       "422223                                    COLECISTECTOMIA            97.0   \n",
       "423635                          DOLOR ABDOMINAL Y PELVICO             NaN   \n",
       "429686                             INFARTO CEREBRAL (ACV)             NaN   \n",
       "429692  Condición de salud posterior a COVID-19 (Sindr...            68.0   \n",
       "429694                                     APENDICECTOMIA           143.0   \n",
       "\n",
       "       fecha_nacimiento  genero               tipo_licencia estado_civil  \\\n",
       "308          1971-10-31    MALE  Médica por Hospitalización      MARRIED   \n",
       "591          1963-07-22    MALE  Médica por Hospitalización        OTHER   \n",
       "1044         1985-09-02  FEMALE  Médica por Hospitalización        OTHER   \n",
       "1106         1977-02-25  FEMALE  Médica por Hospitalización       SINGLE   \n",
       "11724        1989-11-16    MALE  Médica por Hospitalización       SINGLE   \n",
       "...                 ...     ...                         ...          ...   \n",
       "422223       1985-03-31    MALE  Médica por Hospitalización      MARRIED   \n",
       "423635       1966-08-28  FEMALE  Médica por Hospitalización        OTHER   \n",
       "429686       1960-10-19    MALE  Médica por Hospitalización      MARRIED   \n",
       "429692       1963-10-24    MALE  Médica por Hospitalización        OTHER   \n",
       "429694       1991-09-27  FEMALE  Médica por Hospitalización       SINGLE   \n",
       "\n",
       "        dias_aprobados   decision_medica  id_auditor          motivo_rechazo  \\\n",
       "308                3.0  EDITAR_Y_APROBAR     14721.0                     NaN   \n",
       "591               21.0  EDITAR_Y_APROBAR     14721.0                     NaN   \n",
       "1044              11.0  EDITAR_Y_APROBAR     14721.0                     NaN   \n",
       "1106               0.0          RECHAZAR     14721.0                     NaN   \n",
       "11724              1.0  EDITAR_Y_APROBAR      6233.0                     NaN   \n",
       "...                ...               ...         ...                     ...   \n",
       "422223            10.0  EDITAR_Y_APROBAR      1056.0  Se aprueba la licencia   \n",
       "423635             0.0          RECHAZAR     11625.0                     NaN   \n",
       "429686            20.0  EDITAR_Y_APROBAR      4502.0                     NaN   \n",
       "429692            23.0  EDITAR_Y_APROBAR      4502.0   Diagnostico no valido   \n",
       "429694            21.0  EDITAR_Y_APROBAR      4502.0                     NaN   \n",
       "\n",
       "       categoria_diagnostico  \n",
       "308                      NaN  \n",
       "591                      NaN  \n",
       "1044                     NaN  \n",
       "1106                     NaN  \n",
       "11724                    NaN  \n",
       "...                      ...  \n",
       "422223                   NaN  \n",
       "423635                   NaN  \n",
       "429686                   NaN  \n",
       "429692           INFECCIONES  \n",
       "429694                   NaN  \n",
       "\n",
       "[6034 rows x 16 columns]"
      ]
     },
     "execution_count": 7,
     "metadata": {},
     "output_type": "execute_result"
    }
   ],
   "source": [
    "condicion_dias_solicitados_x_hospitalizacion = (relev_df['dias_solicitados'].isnull()) & (relev_df['tipo_licencia']=='Médica por Hospitalización')\n",
    "relev_df[condicion_dias_solicitados_x_hospitalizacion]"
   ]
  },
  {
   "attachments": {},
   "cell_type": "markdown",
   "metadata": {},
   "source": [
    "De los registros con valores nulos en la columna *dias_solicitados* casi todos corresponden a licencias médicas por hospitalización como pudo comprobarse; sin embargo un caso corresponde a otra situación que se presenta a continuación. "
   ]
  },
  {
   "cell_type": "code",
   "execution_count": 8,
   "metadata": {},
   "outputs": [
    {
     "data": {
      "text/html": [
       "<div>\n",
       "<style scoped>\n",
       "    .dataframe tbody tr th:only-of-type {\n",
       "        vertical-align: middle;\n",
       "    }\n",
       "\n",
       "    .dataframe tbody tr th {\n",
       "        vertical-align: top;\n",
       "    }\n",
       "\n",
       "    .dataframe thead th {\n",
       "        text-align: right;\n",
       "    }\n",
       "</style>\n",
       "<table border=\"1\" class=\"dataframe\">\n",
       "  <thead>\n",
       "    <tr style=\"text-align: right;\">\n",
       "      <th></th>\n",
       "      <th>numero_licencia</th>\n",
       "      <th>fecha_creacion</th>\n",
       "      <th>dias_solicitados</th>\n",
       "      <th>fecha_inicio</th>\n",
       "      <th>fecha_fin</th>\n",
       "      <th>diagnostico</th>\n",
       "      <th>id_diagnostico</th>\n",
       "      <th>fecha_nacimiento</th>\n",
       "      <th>genero</th>\n",
       "      <th>tipo_licencia</th>\n",
       "      <th>estado_civil</th>\n",
       "      <th>dias_aprobados</th>\n",
       "      <th>decision_medica</th>\n",
       "      <th>id_auditor</th>\n",
       "      <th>motivo_rechazo</th>\n",
       "      <th>categoria_diagnostico</th>\n",
       "    </tr>\n",
       "  </thead>\n",
       "  <tbody>\n",
       "    <tr>\n",
       "      <th>22045</th>\n",
       "      <td>15249</td>\n",
       "      <td>2021-03-18 08:42:31.440</td>\n",
       "      <td>NaN</td>\n",
       "      <td>2021-03-17</td>\n",
       "      <td>2021-03-17</td>\n",
       "      <td>TUMOR MALIGNO DE CERBRO</td>\n",
       "      <td>NaN</td>\n",
       "      <td>1973-03-23</td>\n",
       "      <td>FEMALE</td>\n",
       "      <td>Médica</td>\n",
       "      <td>OTHER</td>\n",
       "      <td>0.0</td>\n",
       "      <td>RECHAZAR</td>\n",
       "      <td>1027.0</td>\n",
       "      <td>NaN</td>\n",
       "      <td>NaN</td>\n",
       "    </tr>\n",
       "  </tbody>\n",
       "</table>\n",
       "</div>"
      ],
      "text/plain": [
       "       numero_licencia           fecha_creacion  dias_solicitados  \\\n",
       "22045            15249  2021-03-18 08:42:31.440               NaN   \n",
       "\n",
       "      fecha_inicio   fecha_fin              diagnostico  id_diagnostico  \\\n",
       "22045   2021-03-17  2021-03-17  TUMOR MALIGNO DE CERBRO             NaN   \n",
       "\n",
       "      fecha_nacimiento  genero tipo_licencia estado_civil  dias_aprobados  \\\n",
       "22045       1973-03-23  FEMALE        Médica        OTHER             0.0   \n",
       "\n",
       "      decision_medica  id_auditor motivo_rechazo categoria_diagnostico  \n",
       "22045        RECHAZAR      1027.0            NaN                   NaN  "
      ]
     },
     "execution_count": 8,
     "metadata": {},
     "output_type": "execute_result"
    }
   ],
   "source": [
    "relev_df[(relev_df['dias_solicitados'].isnull()) & ~(relev_df['tipo_licencia']=='Médica por Hospitalización')]"
   ]
  },
  {
   "attachments": {},
   "cell_type": "markdown",
   "metadata": {},
   "source": [
    "Si bien no hay suficiente información para determinar a qué caso corresponde este registro, al ser un solo registro y estar rechazado no afecta el análisis de la hipótesis. hipótesis "
   ]
  },
  {
   "attachments": {},
   "cell_type": "markdown",
   "metadata": {},
   "source": [
    " Los valores faltantes rondan el 1.5% del dataset, sin embargo no tienen impacto directo sobre la hipótesis planteada inicialmente en el trabajo práctico n°1, ya que estos registros no corresponden a licencias médicas solicitadas por los trabajadores sino a licencias otorgadas automáticamente por hospitalización o al caso particular que figura rechazazo, por lo que se propone eliminar estas filas."
   ]
  },
  {
   "attachments": {},
   "cell_type": "markdown",
   "metadata": {},
   "source": [
    "##### v) Registros con géneros ruidosos \n",
    "\n",
    "Este atributo presenta los siguientes tres valores\n",
    "\n",
    " - *FEMALE*\n",
    " - *MALE*\n",
    " - *OTHER*\n",
    "\n",
    "El valor *OTHER* presenta una frecuencia tan baja de ocurrencias que será considerado ruidoso.\n",
    "Se propone imputar los valores *OTHER* siguiendo las frecuencias relativas de los otros dos valores."
   ]
  },
  {
   "cell_type": "code",
   "execution_count": 9,
   "metadata": {},
   "outputs": [
    {
     "data": {
      "text/html": [
       "<div>\n",
       "<style scoped>\n",
       "    .dataframe tbody tr th:only-of-type {\n",
       "        vertical-align: middle;\n",
       "    }\n",
       "\n",
       "    .dataframe tbody tr th {\n",
       "        vertical-align: top;\n",
       "    }\n",
       "\n",
       "    .dataframe thead th {\n",
       "        text-align: right;\n",
       "    }\n",
       "</style>\n",
       "<table border=\"1\" class=\"dataframe\">\n",
       "  <thead>\n",
       "    <tr style=\"text-align: right;\">\n",
       "      <th>col_0</th>\n",
       "      <th>count</th>\n",
       "    </tr>\n",
       "    <tr>\n",
       "      <th>genero</th>\n",
       "      <th></th>\n",
       "    </tr>\n",
       "  </thead>\n",
       "  <tbody>\n",
       "    <tr>\n",
       "      <th>FEMALE</th>\n",
       "      <td>0.775884</td>\n",
       "    </tr>\n",
       "    <tr>\n",
       "      <th>MALE</th>\n",
       "      <td>0.224021</td>\n",
       "    </tr>\n",
       "    <tr>\n",
       "      <th>OTHER</th>\n",
       "      <td>0.000095</td>\n",
       "    </tr>\n",
       "  </tbody>\n",
       "</table>\n",
       "</div>"
      ],
      "text/plain": [
       "col_0      count\n",
       "genero          \n",
       "FEMALE  0.775884\n",
       "MALE    0.224021\n",
       "OTHER   0.000095"
      ]
     },
     "execution_count": 9,
     "metadata": {},
     "output_type": "execute_result"
    }
   ],
   "source": [
    "generos_abs_freq = pd.crosstab(index=relev_df[\"genero\"], columns=\"count\")\n",
    "generos_rel_freq = generos_abs_freq/generos_abs_freq.sum()\n",
    "generos_rel_freq\n"
   ]
  },
  {
   "attachments": {},
   "cell_type": "markdown",
   "metadata": {},
   "source": [
    "#### b. Curación del conjunto de datos"
   ]
  },
  {
   "attachments": {},
   "cell_type": "markdown",
   "metadata": {},
   "source": [
    "##### i.- Descarte de filas sin auditoría\n",
    "\n",
    "Para el caso de los registros sin auditar, se descartan los registros que tengan faltante el dato *id_auditor*."
   ]
  },
  {
   "cell_type": "code",
   "execution_count": 10,
   "metadata": {},
   "outputs": [],
   "source": [
    "#Se quitan todos los registros que no pasaron por auditoria\n",
    "relev_df = relev_df.dropna(subset=['id_auditor'])"
   ]
  },
  {
   "attachments": {},
   "cell_type": "markdown",
   "metadata": {},
   "source": [
    "##### ii.- Imputación de valores faltantes en diagnósticos\n",
    "\n",
    "En el caso de la columna *id_diagnostico*, aparecen valores nulos en registros con *diagnostico* registrado; es posible, por lo tanto, imputar el valor de *id_diagnostico* existente en los diagnósticos que si tienen el dato cargado a los registros que no lo tienen.\n",
    "\n",
    "Sin embargo, se observa que algunos diagnósticos aparecen duplicados debido a caracteres extraños en el dato, por lo que antes de la imputación será necesario limpiar el campo *descripcion* para poder identificar correctamente los *id_diagnostico* existentes. "
   ]
  },
  {
   "cell_type": "code",
   "execution_count": 11,
   "metadata": {},
   "outputs": [],
   "source": [
    "# limpieza de espacios en blanco iniciales y finales, y espacios ubicados luego de comas (,)\n",
    "relev_df['diagnostico']=relev_df['diagnostico'].str.strip()\n",
    "relev_df['diagnostico']=relev_df['diagnostico'].str.replace(', ', ',')\n",
    "\n",
    "# creacion de grupos por diagnostico y posterior llenado de id_diagnostico a partir de valores existentes\n",
    "relev_df['id_diagnostico'] = relev_df.groupby(['diagnostico'])['id_diagnostico'].fillna(method='ffill')\n",
    "relev_df['categoria_diagnostico'] = relev_df.groupby(['diagnostico'])['categoria_diagnostico'].fillna(method='ffill')"
   ]
  },
  {
   "attachments": {},
   "cell_type": "markdown",
   "metadata": {},
   "source": [
    "##### iii.- Descarte de filas sin fecha fin\n",
    "\n",
    "Para el caso del registro con fecha de fin faltante, se descarta el registro."
   ]
  },
  {
   "cell_type": "code",
   "execution_count": 12,
   "metadata": {},
   "outputs": [],
   "source": [
    "#Se quitan todos los registros que no tienen fecha_fin\n",
    "relev_df = relev_df.dropna(subset=['fecha_fin'])"
   ]
  },
  {
   "attachments": {},
   "cell_type": "markdown",
   "metadata": {},
   "source": [
    "##### iv.- Descarte de días solicitados faltantes\n",
    "\n",
    "Para el caso de los registros sin días solicitados, se descartarán dichos registros."
   ]
  },
  {
   "cell_type": "code",
   "execution_count": 13,
   "metadata": {},
   "outputs": [],
   "source": [
    "relev_df = relev_df.dropna(subset='dias_solicitados')"
   ]
  },
  {
   "attachments": {},
   "cell_type": "markdown",
   "metadata": {},
   "source": [
    "##### v.- Imputación de géneros ruidosos\n",
    "\n",
    "Para el caso del atributo *genero*, se imputan los valores *['OTHER']* con valores *['FEMALE', 'MALE']* siguiendo las probabilidades de ocurrencia de ambos valores."
   ]
  },
  {
   "cell_type": "code",
   "execution_count": 14,
   "metadata": {},
   "outputs": [],
   "source": [
    "import numpy as np\n",
    "\n",
    "# previamente se habian obtenido las frecuencias relativas de cada genero; ahora se usaran como probabilidad en la funcion prob_gender()\n",
    "aux_freqs = generos_rel_freq.to_numpy().reshape(1,-1).flatten()\n",
    "\n",
    "# genera valores ['FEMALE', 'MALE'] siguiendo las probabilidades relativas obtenidas previamente\n",
    "def prob_gender():\n",
    "    return np.random.choice(\n",
    "                a = ['FEMALE', 'MALE'],\n",
    "                p = [aux_freqs[0], 1 - aux_freqs[0]]\n",
    "            )\n",
    "\n",
    "# se imputan los valores de genero ['OTHER'] con los valores ['FEMALE', 'MALE'] siguiendo las probabilidades relativas obtenidas previamente\n",
    "relev_df['genero'].mask(relev_df['genero'] == 'OTHER', prob_gender(), inplace=True)\n"
   ]
  },
  {
   "attachments": {},
   "cell_type": "markdown",
   "metadata": {},
   "source": [
    "##### vi.- Estado del dataset luego de las transformaciones\n",
    "\n",
    "Finalmente, luego de descartar registros con valores nulos e imputar otros, se presenta el estado actual del dataset en cuanto a valores nulos y faltantes"
   ]
  },
  {
   "cell_type": "code",
   "execution_count": 15,
   "metadata": {},
   "outputs": [
    {
     "data": {
      "text/plain": [
       "numero_licencia               0\n",
       "fecha_creacion                0\n",
       "dias_solicitados              0\n",
       "fecha_inicio                  0\n",
       "fecha_fin                     0\n",
       "diagnostico                   0\n",
       "id_diagnostico              565\n",
       "fecha_nacimiento              0\n",
       "genero                        0\n",
       "tipo_licencia                 0\n",
       "estado_civil                  0\n",
       "dias_aprobados                0\n",
       "decision_medica               0\n",
       "id_auditor                    0\n",
       "motivo_rechazo           236834\n",
       "categoria_diagnostico      2446\n",
       "dtype: int64"
      ]
     },
     "execution_count": 15,
     "metadata": {},
     "output_type": "execute_result"
    }
   ],
   "source": [
    "relev_df.isnull().sum()"
   ]
  },
  {
   "attachments": {},
   "cell_type": "markdown",
   "metadata": {},
   "source": [
    "#### c. Análisis de atributos *dias_solicitados* y *dias_aprobados*"
   ]
  },
  {
   "attachments": {},
   "cell_type": "markdown",
   "metadata": {},
   "source": [
    "El tratamiento a estos dos campos se inició en los incisos anteriores y se completará en este punto el análisis sobre la consistencia de los datos."
   ]
  },
  {
   "attachments": {},
   "cell_type": "markdown",
   "metadata": {},
   "source": [
    "##### i.- Valores faltantes\n",
    "\n",
    "En cuanto al atributo *dias_aprobados* se habáan detectado valores faltantes (ver inc. 1.a.i), los cuales fueron descartados (ver inc. 1.b.i).\n",
    "En cuanto al atributo *dias_solicitados* se detectaron valores faltantes (ver inc. 1.a.iv), pero en este caso fueron los valores fueron imputados utilizando el valor de *dias_aprobados* (ver inc. 1.b.iv).\n"
   ]
  },
  {
   "attachments": {},
   "cell_type": "markdown",
   "metadata": {},
   "source": [
    "##### ii.- Valores ruidosos\n",
    "\n",
    "Este análisis se realizará a continuación en el punto 2)."
   ]
  },
  {
   "attachments": {},
   "cell_type": "markdown",
   "metadata": {},
   "source": [
    "##### iii.- Consistencia entre *dias_solicitados* y *dias_aprobados*\n",
    "\n",
    "Se encontró que los valores presentan ciertas inconsistencias, particularmente en relación a los atributos *fecha_inicio* y *fecha_fin*.\n",
    "\n",
    "En relación al atributo *dias_solicitados* es posible que el trabajador solicite un número de días que luego no coincida con los aprobados, o incluso, que como se vio en el caso de las licencias por internación, directamente no solicite días.\n",
    "\n",
    "En cambio, en el caso de *dias_aprobados* se hubiera esperado una relación entre la cantidad de dias entre *fecha_inicio* y *fecha_fin* y el valor de días efectivamente aprobados. Sin embargo, según se pudo constatar anteriormente (ver inc. 1.a.iv), es posible que el dataset no incluya el valor real de este atributo."
   ]
  },
  {
   "cell_type": "code",
   "execution_count": 16,
   "metadata": {},
   "outputs": [
    {
     "data": {
      "text/html": [
       "<div>\n",
       "<style scoped>\n",
       "    .dataframe tbody tr th:only-of-type {\n",
       "        vertical-align: middle;\n",
       "    }\n",
       "\n",
       "    .dataframe tbody tr th {\n",
       "        vertical-align: top;\n",
       "    }\n",
       "\n",
       "    .dataframe thead th {\n",
       "        text-align: right;\n",
       "    }\n",
       "</style>\n",
       "<table border=\"1\" class=\"dataframe\">\n",
       "  <thead>\n",
       "    <tr style=\"text-align: right;\">\n",
       "      <th></th>\n",
       "      <th>id_auditor</th>\n",
       "      <th>fecha_inicio</th>\n",
       "      <th>fecha_fin</th>\n",
       "      <th>dias_solicitados</th>\n",
       "      <th>dias_aprobados</th>\n",
       "    </tr>\n",
       "  </thead>\n",
       "  <tbody>\n",
       "    <tr>\n",
       "      <th>377477</th>\n",
       "      <td>47590.0</td>\n",
       "      <td>2021-10-18</td>\n",
       "      <td>2021-11-05</td>\n",
       "      <td>21.0</td>\n",
       "      <td>21.0</td>\n",
       "    </tr>\n",
       "    <tr>\n",
       "      <th>350760</th>\n",
       "      <td>446.0</td>\n",
       "      <td>2021-06-14</td>\n",
       "      <td>2021-06-18</td>\n",
       "      <td>5.0</td>\n",
       "      <td>10.0</td>\n",
       "    </tr>\n",
       "    <tr>\n",
       "      <th>231596</th>\n",
       "      <td>859.0</td>\n",
       "      <td>2022-11-02</td>\n",
       "      <td>2022-11-02</td>\n",
       "      <td>1.0</td>\n",
       "      <td>0.0</td>\n",
       "    </tr>\n",
       "    <tr>\n",
       "      <th>359687</th>\n",
       "      <td>446.0</td>\n",
       "      <td>2021-05-13</td>\n",
       "      <td>2021-05-15</td>\n",
       "      <td>3.0</td>\n",
       "      <td>10.0</td>\n",
       "    </tr>\n",
       "    <tr>\n",
       "      <th>55722</th>\n",
       "      <td>0.0</td>\n",
       "      <td>2021-11-16</td>\n",
       "      <td>2021-11-16</td>\n",
       "      <td>1.0</td>\n",
       "      <td>1.0</td>\n",
       "    </tr>\n",
       "    <tr>\n",
       "      <th>355539</th>\n",
       "      <td>446.0</td>\n",
       "      <td>2021-09-13</td>\n",
       "      <td>2021-09-13</td>\n",
       "      <td>7.0</td>\n",
       "      <td>4.0</td>\n",
       "    </tr>\n",
       "    <tr>\n",
       "      <th>411295</th>\n",
       "      <td>905.0</td>\n",
       "      <td>2021-04-08</td>\n",
       "      <td>2021-04-09</td>\n",
       "      <td>8.0</td>\n",
       "      <td>4.0</td>\n",
       "    </tr>\n",
       "    <tr>\n",
       "      <th>117444</th>\n",
       "      <td>0.0</td>\n",
       "      <td>2022-09-13</td>\n",
       "      <td>2022-09-13</td>\n",
       "      <td>1.0</td>\n",
       "      <td>1.0</td>\n",
       "    </tr>\n",
       "    <tr>\n",
       "      <th>307141</th>\n",
       "      <td>12347.0</td>\n",
       "      <td>2021-11-10</td>\n",
       "      <td>2021-11-11</td>\n",
       "      <td>2.0</td>\n",
       "      <td>2.0</td>\n",
       "    </tr>\n",
       "    <tr>\n",
       "      <th>101068</th>\n",
       "      <td>0.0</td>\n",
       "      <td>2022-11-28</td>\n",
       "      <td>2022-11-28</td>\n",
       "      <td>1.0</td>\n",
       "      <td>1.0</td>\n",
       "    </tr>\n",
       "    <tr>\n",
       "      <th>204536</th>\n",
       "      <td>67339.0</td>\n",
       "      <td>2022-11-28</td>\n",
       "      <td>2022-11-29</td>\n",
       "      <td>27.0</td>\n",
       "      <td>2.0</td>\n",
       "    </tr>\n",
       "    <tr>\n",
       "      <th>36</th>\n",
       "      <td>14721.0</td>\n",
       "      <td>2021-01-04</td>\n",
       "      <td>2021-01-10</td>\n",
       "      <td>10.0</td>\n",
       "      <td>10.0</td>\n",
       "    </tr>\n",
       "    <tr>\n",
       "      <th>319336</th>\n",
       "      <td>177.0</td>\n",
       "      <td>2022-09-15</td>\n",
       "      <td>2022-09-23</td>\n",
       "      <td>9.0</td>\n",
       "      <td>9.0</td>\n",
       "    </tr>\n",
       "    <tr>\n",
       "      <th>344818</th>\n",
       "      <td>446.0</td>\n",
       "      <td>2021-06-04</td>\n",
       "      <td>2021-06-04</td>\n",
       "      <td>7.0</td>\n",
       "      <td>4.0</td>\n",
       "    </tr>\n",
       "    <tr>\n",
       "      <th>27368</th>\n",
       "      <td>0.0</td>\n",
       "      <td>2021-06-29</td>\n",
       "      <td>2021-06-29</td>\n",
       "      <td>2.0</td>\n",
       "      <td>2.0</td>\n",
       "    </tr>\n",
       "    <tr>\n",
       "      <th>215615</th>\n",
       "      <td>3846.0</td>\n",
       "      <td>2022-12-12</td>\n",
       "      <td>2022-12-12</td>\n",
       "      <td>5.0</td>\n",
       "      <td>5.0</td>\n",
       "    </tr>\n",
       "    <tr>\n",
       "      <th>108175</th>\n",
       "      <td>0.0</td>\n",
       "      <td>2021-10-25</td>\n",
       "      <td>2021-10-27</td>\n",
       "      <td>3.0</td>\n",
       "      <td>3.0</td>\n",
       "    </tr>\n",
       "    <tr>\n",
       "      <th>98287</th>\n",
       "      <td>0.0</td>\n",
       "      <td>2022-02-14</td>\n",
       "      <td>2022-02-14</td>\n",
       "      <td>1.0</td>\n",
       "      <td>1.0</td>\n",
       "    </tr>\n",
       "    <tr>\n",
       "      <th>371547</th>\n",
       "      <td>802.0</td>\n",
       "      <td>2022-11-22</td>\n",
       "      <td>2022-11-22</td>\n",
       "      <td>21.0</td>\n",
       "      <td>1.0</td>\n",
       "    </tr>\n",
       "    <tr>\n",
       "      <th>111906</th>\n",
       "      <td>0.0</td>\n",
       "      <td>2021-11-29</td>\n",
       "      <td>2021-11-29</td>\n",
       "      <td>2.0</td>\n",
       "      <td>2.0</td>\n",
       "    </tr>\n",
       "  </tbody>\n",
       "</table>\n",
       "</div>"
      ],
      "text/plain": [
       "        id_auditor fecha_inicio   fecha_fin  dias_solicitados  dias_aprobados\n",
       "377477     47590.0   2021-10-18  2021-11-05              21.0            21.0\n",
       "350760       446.0   2021-06-14  2021-06-18               5.0            10.0\n",
       "231596       859.0   2022-11-02  2022-11-02               1.0             0.0\n",
       "359687       446.0   2021-05-13  2021-05-15               3.0            10.0\n",
       "55722          0.0   2021-11-16  2021-11-16               1.0             1.0\n",
       "355539       446.0   2021-09-13  2021-09-13               7.0             4.0\n",
       "411295       905.0   2021-04-08  2021-04-09               8.0             4.0\n",
       "117444         0.0   2022-09-13  2022-09-13               1.0             1.0\n",
       "307141     12347.0   2021-11-10  2021-11-11               2.0             2.0\n",
       "101068         0.0   2022-11-28  2022-11-28               1.0             1.0\n",
       "204536     67339.0   2022-11-28  2022-11-29              27.0             2.0\n",
       "36         14721.0   2021-01-04  2021-01-10              10.0            10.0\n",
       "319336       177.0   2022-09-15  2022-09-23               9.0             9.0\n",
       "344818       446.0   2021-06-04  2021-06-04               7.0             4.0\n",
       "27368          0.0   2021-06-29  2021-06-29               2.0             2.0\n",
       "215615      3846.0   2022-12-12  2022-12-12               5.0             5.0\n",
       "108175         0.0   2021-10-25  2021-10-27               3.0             3.0\n",
       "98287          0.0   2022-02-14  2022-02-14               1.0             1.0\n",
       "371547       802.0   2022-11-22  2022-11-22              21.0             1.0\n",
       "111906         0.0   2021-11-29  2021-11-29               2.0             2.0"
      ]
     },
     "execution_count": 16,
     "metadata": {},
     "output_type": "execute_result"
    }
   ],
   "source": [
    "cols = ['id_auditor', 'fecha_inicio', 'fecha_fin', 'dias_solicitados', 'dias_aprobados']\n",
    "relev_df[cols].sample(20)"
   ]
  },
  {
   "attachments": {},
   "cell_type": "markdown",
   "metadata": {},
   "source": [
    "### 2) Análisis de outliers"
   ]
  },
  {
   "attachments": {},
   "cell_type": "markdown",
   "metadata": {},
   "source": [
    "Se buscan valores atípicos en las columnas seleccionadas mediante exploración visual."
   ]
  },
  {
   "attachments": {},
   "cell_type": "markdown",
   "metadata": {},
   "source": [
    "### a) Variables numéricas de tipo fecha\n",
    "\n",
    "Entre las variables numéricas se analizarán primeramente las variables de tipo fecha: *fecha_creacion*, *fecha_inicio*, *fecha_fin* y *fecha_nacimiento*"
   ]
  },
  {
   "cell_type": "code",
   "execution_count": 17,
   "metadata": {},
   "outputs": [
    {
     "data": {
      "image/png": "[encoded data removed]",
      "text/plain": [
       "<Figure size 1200x600 with 4 Axes>"
      ]
     },
     "metadata": {},
     "output_type": "display_data"
    }
   ],
   "source": [
    "import pandas as pd\n",
    "import matplotlib.pyplot as plt\n",
    "\n",
    "pd.plotting.register_matplotlib_converters()\n",
    "\n",
    "relev_df['fecha_creacion'] = pd.to_datetime(relev_df['fecha_creacion'])\n",
    "relev_df['fecha_inicio'] = pd.to_datetime(relev_df['fecha_inicio'])\n",
    "relev_df['fecha_fin'] = pd.to_datetime(relev_df['fecha_fin'])\n",
    "relev_df['fecha_nacimiento'] = pd.to_datetime(relev_df['fecha_nacimiento'])\n",
    "\n",
    "figure, axis = plt.subplots(2, 2, figsize=(12, 6))\n",
    "\n",
    "axis[0, 0].hist(relev_df['fecha_creacion'], bins=24)\n",
    "axis[0, 0].set_title(\"fecha_creacion\")\n",
    "\n",
    "axis[0, 1].hist(relev_df['fecha_nacimiento'], bins=24)\n",
    "axis[0, 1].set_title(\"fecha_nacimiento\")\n",
    "\n",
    "axis[1, 0].hist(relev_df['fecha_inicio'], bins=24)\n",
    "axis[1, 0].set_title(\"fecha_inicio\")\n",
    "\n",
    "axis[1, 1].hist(relev_df['fecha_fin'], bins=24)\n",
    "axis[1, 1].set_title(\"fecha_fin\")\n",
    "\n",
    "figure.tight_layout()"
   ]
  },
  {
   "attachments": {},
   "cell_type": "markdown",
   "metadata": {},
   "source": [
    "#### i) fecha_creacion\n",
    "\n",
    "Se conocía de antemano que el dataset correspondía a solicitudes realizadas durante un período de dos años, y esto se comprueba en el histograma.\n",
    "\n",
    "> No se detectan valores atípicos"
   ]
  },
  {
   "attachments": {},
   "cell_type": "markdown",
   "metadata": {},
   "source": [
    "#### ii) fecha_nacimiento\n",
    "\n",
    "Este campo debería reflejar la fecha de nacimiento de los solicitantes al momento de realizar la solicitud de licencia; si se considera que los solicitantes son trabajadores que cumplen con las leyes argentinas, el rango de edad de los solicitantes incluidos en el dataset deberían tener una edad entre 18 y 65 años, es decir una fecha de nacimiento posterior a enero de 1955 (65 años antes a la menor fecha de creación del dataset), y anterior a diciembre de 2004 (18 años antes a la mayor fecha de creación del dataset).\n",
    "\n",
    "También se considera que en el punto 2.a) se realizó una transformación de la variable (conversión a tipo datetime), pero como también pudo comprobarse en el punto 1) no hay valores faltantes en la columna, por lo tanto no hay riesgo de que la transformación haya introducido valores atípicos.\n",
    "\n",
    "Se comprueba observando valores mínimos y máximos y presentándolos de manera ordenada que hay valores atípicos.\n",
    "\n",
    "> Se detectan valores atípicos anteriores a la fecha de nacimiento más antigua posible.\n",
    "\n",
    "Se recomienda **investigar con el proveedor del dataset si existe alguna otro atributo en la base de datos (como por ejemplo el número de documento del solicitante) que permita inferir la fecha de nacimiento**. Si no es así, se recomienda **anular los valores para el dato *fecha_nacimiento* y luego imputarles un valor utilizando algún estadístico (moda o mediana)**."
   ]
  },
  {
   "cell_type": "code",
   "execution_count": 18,
   "metadata": {},
   "outputs": [
    {
     "name": "stdout",
     "output_type": "stream",
     "text": [
      "Valor mínimo:  1900-02-16 00:00:00  , Valor máximo:  2004-07-01 00:00:00\n"
     ]
    },
    {
     "data": {
      "text/plain": [
       "144059   1900-02-16\n",
       "328115   1900-02-20\n",
       "281960   1900-02-24\n",
       "207866   1900-03-05\n",
       "194687   1900-03-10\n",
       "            ...    \n",
       "319791   2003-11-14\n",
       "177287   2003-11-26\n",
       "422354   2003-11-29\n",
       "198063   2004-06-19\n",
       "137383   2004-07-01\n",
       "Name: fecha_nacimiento, Length: 420968, dtype: datetime64[ns]"
      ]
     },
     "execution_count": 18,
     "metadata": {},
     "output_type": "execute_result"
    }
   ],
   "source": [
    "print(\"Valor mínimo: \", relev_df['fecha_nacimiento'].min(), \" , Valor máximo: \", relev_df['fecha_nacimiento'].max())\n",
    "relev_df['fecha_nacimiento'].sort_values()"
   ]
  },
  {
   "attachments": {},
   "cell_type": "markdown",
   "metadata": {},
   "source": [
    "#### iii) fecha_inicio\n",
    "\n",
    "Este campo debería reflejar el inicio de las licencias médicas aprobadas; si se considera que las solicitudes del dataset tienen fecha de creación a partir de enero de 2021 y hasta diciembre de 2022, las fechas de inicio de licencias aprobadas deberían ser cercanas a las fechas de creación.\n",
    "Se entiende que la fecha de inicio de una licencia puede ser anterior a la fecha de creación de la solicitud (es posible que una licencia médica se haya aprobado usando un canal de comunicación diferente al sistema de gestión de licencias, y que la carga de la misma se haya realizado a posteriori). Aún así, y dando un período de seguridad de seis meses entre el inicio de la licencia y el registro de la misma, se observan fechas de inicio que no corresponden a los valores esperados.\n",
    "\n",
    "También se considera que en el punto 2.a) se realizó una transformación de la variable (conversión a tipo datetime), pero como también pudo comprobarse en el punto 31) no hay valores faltantes en la columna, por lo tanto no hay riesgo de que la transformación haya introducido valores atípicos.\n",
    "\n",
    "Esto se comprueba observando valores mínimos y máximos y presentándolos de manera ordenada.\n",
    "\n",
    "> Se detectan valores atípicos anteriores a la fecha de creación más antigua (aún considerando el período de seguridad de seis meses)\n",
    "\n",
    "Se recomienda **investigar con el proveedor del dataset si las fechas de inicio de licencias detectadas como valores atípicos corresponden a casos reales o no**. Si no es así, se recomienda **anular los valores para el dato *fecha_inicio* y luego imputarles el valor de fecha de creacion**"
   ]
  },
  {
   "cell_type": "code",
   "execution_count": 19,
   "metadata": {},
   "outputs": [
    {
     "name": "stdout",
     "output_type": "stream",
     "text": [
      "Valor mínimo:  2020-12-31 00:00:00  , Valor máximo:  2022-12-30 00:00:00\n"
     ]
    },
    {
     "data": {
      "text/plain": [
       "26577    2020-12-31\n",
       "26582    2020-12-31\n",
       "10778    2020-12-31\n",
       "0        2021-01-01\n",
       "10841    2021-01-01\n",
       "            ...    \n",
       "272260   2022-12-30\n",
       "209276   2022-12-30\n",
       "116147   2022-12-30\n",
       "124172   2022-12-30\n",
       "198231   2022-12-30\n",
       "Name: fecha_inicio, Length: 420968, dtype: datetime64[ns]"
      ]
     },
     "execution_count": 19,
     "metadata": {},
     "output_type": "execute_result"
    }
   ],
   "source": [
    "print(\"Valor mínimo: \", relev_df['fecha_inicio'].min(), \" , Valor máximo: \", relev_df['fecha_inicio'].max())\n",
    "relev_df['fecha_inicio'].sort_values()"
   ]
  },
  {
   "attachments": {},
   "cell_type": "markdown",
   "metadata": {},
   "source": [
    "#### iv) fecha_fin\n",
    "\n",
    "Este campo debería reflejar el fin de las licencias médicas aprobadas. \n",
    "\n",
    "Se desconoce si existe un límite máximo en la cantidad de días de licencia que pueden otorgarse; también se desconoce si se registran solicitudes de licencias que ya hayan finalizado (fecha de creación mayor a la fecha de fin de la misma); aún así, y tal como se analizó para el dato *fecha_inicio*, se considera que si las solicitudes del dataset tienen fecha de creación a partir de enero de 2021 y hasta diciembre de 2022, entonces las fechas de fin de licencias aprobadas deberían ser cercanas a las fechas de creación.\n",
    "Si se mantiene el supuesto del punto anterior que la fecha de inicio de una licencia puede ser anterior a la fecha de creación de la solicitud con un período de seguridad de seis meses entre el inicio de la licencia y el registro de la misma, entonces las fechas de finalización también deberían cumplir ese criterio.\n",
    "\n",
    "También se considera que en el punto 2.a) se realizó una transformación de la variable (conversión a tipo datetime); pero, aunque hay un solo valor faltante en la columna como pudo verse en el punto 1), la conversión aplicada no modificó el valor nulo, por lo tanto no hay riesgo de que la transformación haya introducido valores atípicos.\n",
    "\n",
    "No obstante, y a pesar de todas las consideraciones realizadas, se observan fechas de fin que no corresponden a los valores esperados.\n",
    "\n",
    "Esto se comprueba observando valores mínimos y máximos y presentándolos de manera ordenada.\n",
    "\n",
    "> Se detectan valores atípicos anteriores a la fecha de creación más antigua\n",
    "\n",
    "Se recomienda **investigar con el proveedor del dataset si las fechas de inicio de licencias detectadas como valores atípicos corresponden a casos reales o no**. Si no es así, se recomienda **anular los valores para el dato *fecha_fin* y luego imputarles el valor de fecha de inicio sumados los días aprobados**"
   ]
  },
  {
   "cell_type": "code",
   "execution_count": 20,
   "metadata": {},
   "outputs": [
    {
     "name": "stdout",
     "output_type": "stream",
     "text": [
      "Valor mínimo:  2020-12-31 00:00:00  , Valor máximo:  2023-02-03 00:00:00\n"
     ]
    },
    {
     "data": {
      "text/plain": [
       "26582    2020-12-31\n",
       "0        2021-01-01\n",
       "137541   2021-01-01\n",
       "137550   2021-01-01\n",
       "137570   2021-01-01\n",
       "            ...    \n",
       "324387   2023-01-28\n",
       "137517   2023-01-30\n",
       "314390   2023-01-30\n",
       "132147   2023-01-31\n",
       "339088   2023-02-03\n",
       "Name: fecha_fin, Length: 420968, dtype: datetime64[ns]"
      ]
     },
     "execution_count": 20,
     "metadata": {},
     "output_type": "execute_result"
    }
   ],
   "source": [
    "print(\"Valor mínimo: \", relev_df['fecha_fin'].dropna().min(), \" , Valor máximo: \", relev_df['fecha_fin'].dropna().max())\n",
    "relev_df['fecha_fin'].dropna().sort_values()"
   ]
  },
  {
   "attachments": {},
   "cell_type": "markdown",
   "metadata": {},
   "source": [
    "### b) Variables numéricas de tipo entero\n",
    "\n",
    "Las variables numéricas de tipo entero que se analizarán son: *dias_solicitados* y *dias_aprobados*. "
   ]
  },
  {
   "cell_type": "code",
   "execution_count": 23,
   "metadata": {},
   "outputs": [
    {
     "data": {
      "image/png": "[encoded data removed]",
      "text/plain": [
       "<Figure size 2000x500 with 1 Axes>"
      ]
     },
     "metadata": {},
     "output_type": "display_data"
    }
   ],
   "source": [
    "import seaborn as sns\n",
    "\n",
    "sns.boxplot(relev_df[['dias_solicitados', 'dias_aprobados']], orient=\"h\", palette=\"Set2\")\n",
    "sns.set(rc={'figure.figsize':(20,5)})"
   ]
  },
  {
   "attachments": {},
   "cell_type": "markdown",
   "metadata": {},
   "source": [
    "Las distribuciones de las dos variables están sesgadas a la derecha, y si bien hay valores alejados que analíticamente podrían considerarse como atípicos (distancias mayores a 3 veces el rango inter-cuartílico desde el percentil Q3), se desconoce si existe un límite máximo en la cantidad de días de licencia que pueden solicitarse y aprobararse.\n",
    "\n",
    "> Se detectan valores atípicos (desde el punto de vista analítico)\n",
    "\n",
    "Sin embargo, luego de consultar con el proveedor de los datos se confirma que son datos posibles en el contexto del problema. "
   ]
  },
  {
   "attachments": {},
   "cell_type": "markdown",
   "metadata": {},
   "source": [
    "### c) Imputaciones varias "
   ]
  },
  {
   "attachments": {},
   "cell_type": "markdown",
   "metadata": {},
   "source": [
    "#### i) fecha_nacimiento\n",
    "\n",
    "Se imputarán los valores faltantes con la moda del atributo."
   ]
  },
  {
   "cell_type": "code",
   "execution_count": 21,
   "metadata": {},
   "outputs": [],
   "source": [
    "fecha_nacimiento_stats = pd.Series(relev_df['fecha_nacimiento'].to_numpy('datetime64'))\n",
    "\n",
    "relev_df[relev_df['fecha_nacimiento'] < '1955-01-01']['fecha_nacimiento'] = fecha_nacimiento_stats.mode()"
   ]
  },
  {
   "attachments": {},
   "cell_type": "markdown",
   "metadata": {},
   "source": [
    "#### ii) fecha_inicio\n",
    "\n",
    "Se imputarán los valores extraños con el valor de la fecha de creación de dichos registros."
   ]
  },
  {
   "cell_type": "code",
   "execution_count": 22,
   "metadata": {},
   "outputs": [],
   "source": [
    "# se seleccionan los registros con fechas de inicio extrañas \n",
    "#    (se consideran extrañas las fechas menores a seis meses antes a la menor fecha de creacion)\n",
    "relev_df[relev_df['fecha_inicio'] < '2020-07-01']['fecha_inicio'] = relev_df['fecha_creacion']"
   ]
  },
  {
   "attachments": {},
   "cell_type": "markdown",
   "metadata": {},
   "source": [
    "#### iii) fecha_fin\n",
    "\n",
    "Se imputarán los valores extraños con los valores de la fecha de inicio sumados los días aprobados de dichos registros."
   ]
  },
  {
   "cell_type": "code",
   "execution_count": 23,
   "metadata": {},
   "outputs": [],
   "source": [
    "fechas_fin_df = pd.to_datetime(relev_df[relev_df['fecha_fin'] < '2021-01-01']['fecha_inicio'])\n",
    "dias_aprobados_df = pd.to_timedelta(relev_df[relev_df['fecha_fin'] < '2021-01-01']['dias_aprobados'], 'd')\n",
    "\n",
    "relev_df[relev_df['fecha_fin'] < '2021-01-01']['fecha_fin'] = fechas_fin_df[fechas_fin_df < '2021-01-01'] + dias_aprobados_df"
   ]
  },
  {
   "attachments": {},
   "cell_type": "markdown",
   "metadata": {},
   "source": [
    "### 3) Reagrupamiento de variables categóricas"
   ]
  },
  {
   "attachments": {},
   "cell_type": "markdown",
   "metadata": {},
   "source": [
    "#### a.- Variables con pocas categorías "
   ]
  },
  {
   "attachments": {},
   "cell_type": "markdown",
   "metadata": {},
   "source": [
    "La variable *genero* no necesita reagrupamientos."
   ]
  },
  {
   "cell_type": "code",
   "execution_count": 24,
   "metadata": {},
   "outputs": [
    {
     "data": {
      "text/plain": [
       "<Axes: xlabel='Genero', ylabel='Count'>"
      ]
     },
     "execution_count": 24,
     "metadata": {},
     "output_type": "execute_result"
    },
    {
     "data": {
      "image/png": "[encoded data removed]",
      "text/plain": [
       "<Figure size 640x480 with 1 Axes>"
      ]
     },
     "metadata": {},
     "output_type": "display_data"
    }
   ],
   "source": [
    "relev_df['genero'].value_counts().plot(kind='bar', xlabel='Genero', ylabel='Count', rot=0)"
   ]
  },
  {
   "attachments": {},
   "cell_type": "markdown",
   "metadata": {},
   "source": [
    "La variable *tipo_licencia* no necesita reagrupamientos."
   ]
  },
  {
   "cell_type": "code",
   "execution_count": 25,
   "metadata": {},
   "outputs": [
    {
     "data": {
      "text/plain": [
       "<Axes: xlabel='Tipo de licencia', ylabel='Count'>"
      ]
     },
     "execution_count": 25,
     "metadata": {},
     "output_type": "execute_result"
    },
    {
     "data": {
      "image/png": "[encoded data removed]",
      "text/plain": [
       "<Figure size 640x480 with 1 Axes>"
      ]
     },
     "metadata": {},
     "output_type": "display_data"
    }
   ],
   "source": [
    "\n",
    "relev_df['tipo_licencia'].value_counts().plot(kind='bar', xlabel='Tipo de licencia', ylabel='Count', rot=0)"
   ]
  },
  {
   "attachments": {},
   "cell_type": "markdown",
   "metadata": {},
   "source": [
    "La variable *estado_civil* podría reagruparse en las siguientes categorías\n",
    " - Soltero\n",
    " - Casado\n",
    " - Separado\n",
    " - Otro\n",
    "\n",
    "Este reagrupamiento permitiría consolidar categorías con muy baja frecuencia relativa en categorías semánticamente similares."
   ]
  },
  {
   "cell_type": "code",
   "execution_count": 26,
   "metadata": {},
   "outputs": [
    {
     "data": {
      "text/plain": [
       "<Axes: xlabel='Estado Civil', ylabel='Count'>"
      ]
     },
     "execution_count": 26,
     "metadata": {},
     "output_type": "execute_result"
    },
    {
     "data": {
      "image/png": "[encoded data removed]",
      "text/plain": [
       "<Figure size 640x480 with 1 Axes>"
      ]
     },
     "metadata": {},
     "output_type": "display_data"
    }
   ],
   "source": [
    "relev_df['estado_civil'].value_counts().plot(kind='bar', xlabel='Estado Civil', ylabel='Count', rot=45)"
   ]
  },
  {
   "attachments": {},
   "cell_type": "markdown",
   "metadata": {},
   "source": [
    "Luego del reagrupamiento la variable *estado_civil* queda de la siguiente manera"
   ]
  },
  {
   "cell_type": "code",
   "execution_count": 27,
   "metadata": {},
   "outputs": [
    {
     "data": {
      "text/plain": [
       "<Axes: xlabel='Estado Civil', ylabel='Count'>"
      ]
     },
     "execution_count": 27,
     "metadata": {},
     "output_type": "execute_result"
    },
    {
     "data": {
      "image/png": "[encoded data removed]",
      "text/plain": [
       "<Figure size 640x480 with 1 Axes>"
      ]
     },
     "metadata": {},
     "output_type": "display_data"
    }
   ],
   "source": [
    "relev_df['estado_civil'] = relev_df['estado_civil'].replace({'OTHER': 'OTRO','SINGLE': 'SOLTERO','MARRIED': 'CASADO','DIVORCED': 'SEPARADO','DOMESTIC_UNION': 'CASADO','PERMANENT_SEPARATED':'SEPARADO','LEGALLY_SEPARATED':'SEPARADO','CIVIL_UNION':'CASADO','WIDOWED':'OTRO','DOMESTIC_PARTNERSHIP':'CASADO','SEPARATED':'SEPARADO'})\n",
    "relev_df['estado_civil'].value_counts().plot(kind='bar', xlabel='Estado Civil', ylabel='Count', rot=45)"
   ]
  },
  {
   "attachments": {},
   "cell_type": "markdown",
   "metadata": {},
   "source": [
    "La variable *decision_medica* no necesita reagrupamientos."
   ]
  },
  {
   "cell_type": "code",
   "execution_count": 28,
   "metadata": {},
   "outputs": [
    {
     "data": {
      "text/plain": [
       "<Axes: xlabel='Decision Medica', ylabel='Count'>"
      ]
     },
     "execution_count": 28,
     "metadata": {},
     "output_type": "execute_result"
    },
    {
     "data": {
      "image/png": "[encoded data removed]",
      "text/plain": [
       "<Figure size 640x480 with 1 Axes>"
      ]
     },
     "metadata": {},
     "output_type": "display_data"
    }
   ],
   "source": [
    "relev_df['decision_medica'].value_counts().plot(kind='bar', xlabel='Decision Medica', ylabel='Count', rot=0)"
   ]
  },
  {
   "attachments": {},
   "cell_type": "markdown",
   "metadata": {},
   "source": [
    "La variable *motivo_rechazo* podría reagruparse en las siguientes categorías\n",
    " - Aprobada\n",
    " - Aprobada (menos dias)\n",
    " - Rechazada\n",
    "\n",
    "Este reagrupamiento permitiría consolidar categorías con muy baja frecuencia relativa en categorías semánticamente similares."
   ]
  },
  {
   "cell_type": "code",
   "execution_count": 29,
   "metadata": {},
   "outputs": [
    {
     "data": {
      "text/plain": [
       "<Axes: xlabel='Motivo Rechazo', ylabel='Count'>"
      ]
     },
     "execution_count": 29,
     "metadata": {},
     "output_type": "execute_result"
    },
    {
     "data": {
      "image/png": "[encoded data removed]",
      "text/plain": [
       "<Figure size 640x480 with 1 Axes>"
      ]
     },
     "metadata": {},
     "output_type": "display_data"
    }
   ],
   "source": [
    "relev_df['motivo_rechazo'].value_counts().plot(kind='bar', xlabel='Motivo Rechazo', ylabel='Count', rot=45)"
   ]
  },
  {
   "attachments": {},
   "cell_type": "markdown",
   "metadata": {},
   "source": [
    "Luego del reagrupamiento la variable *motivo_rechazo* queda de la siguiente manera"
   ]
  },
  {
   "cell_type": "code",
   "execution_count": 30,
   "metadata": {},
   "outputs": [
    {
     "data": {
      "text/plain": [
       "<Axes: xlabel='Motivo Rechazo', ylabel='Count'>"
      ]
     },
     "execution_count": 30,
     "metadata": {},
     "output_type": "execute_result"
    },
    {
     "data": {
      "image/png": "[encoded data removed]",
      "text/plain": [
       "<Figure size 640x480 with 1 Axes>"
      ]
     },
     "metadata": {},
     "output_type": "display_data"
    }
   ],
   "source": [
    "relev_df['motivo_rechazo'] = relev_df['motivo_rechazo'].replace({'Se aprueba la licencia': 'Aprobada','Se aprueba por menos dias': 'Aprobada (menos dias)','La documentacion adjuntada no cumple requisitos': 'Rechazada','Diagnostico no valido': 'Rechazada','Motivos formales': 'Rechazada','Otros motivos':'Rechazada','Ausente a turno':'Rechazada'})\n",
    "relev_df['motivo_rechazo'].value_counts().plot(kind='bar', xlabel='Motivo Rechazo', ylabel='Count', rot=45)"
   ]
  },
  {
   "attachments": {},
   "cell_type": "markdown",
   "metadata": {},
   "source": [
    "#### b.- Variables con muchas categorías "
   ]
  },
  {
   "cell_type": "code",
   "execution_count": 33,
   "metadata": {},
   "outputs": [
    {
     "data": {
      "text/html": [
       "<div>\n",
       "<style scoped>\n",
       "    .dataframe tbody tr th:only-of-type {\n",
       "        vertical-align: middle;\n",
       "    }\n",
       "\n",
       "    .dataframe tbody tr th {\n",
       "        vertical-align: top;\n",
       "    }\n",
       "\n",
       "    .dataframe thead th {\n",
       "        text-align: right;\n",
       "    }\n",
       "</style>\n",
       "<table border=\"1\" class=\"dataframe\">\n",
       "  <thead>\n",
       "    <tr style=\"text-align: right;\">\n",
       "      <th></th>\n",
       "      <th>numero_licencia</th>\n",
       "      <th>fecha_creacion</th>\n",
       "      <th>dias_solicitados</th>\n",
       "      <th>fecha_inicio</th>\n",
       "      <th>fecha_fin</th>\n",
       "      <th>diagnostico</th>\n",
       "      <th>id_diagnostico</th>\n",
       "      <th>fecha_nacimiento</th>\n",
       "      <th>genero</th>\n",
       "      <th>tipo_licencia</th>\n",
       "      <th>estado_civil</th>\n",
       "      <th>dias_aprobados</th>\n",
       "      <th>decision_medica</th>\n",
       "      <th>id_auditor</th>\n",
       "      <th>motivo_rechazo</th>\n",
       "      <th>categoria_diagnostico</th>\n",
       "      <th>key</th>\n",
       "    </tr>\n",
       "  </thead>\n",
       "  <tbody>\n",
       "    <tr>\n",
       "      <th>0</th>\n",
       "      <td>1</td>\n",
       "      <td>2021-01-01 00:10:10.418</td>\n",
       "      <td>2.0</td>\n",
       "      <td>2021-01-01</td>\n",
       "      <td>2021-01-01</td>\n",
       "      <td>EFECTOS ADVERSOS DE VACUNAS VIRALES</td>\n",
       "      <td>NaN</td>\n",
       "      <td>1979-11-28</td>\n",
       "      <td>FEMALE</td>\n",
       "      <td>Médica</td>\n",
       "      <td>OTRO</td>\n",
       "      <td>2.0</td>\n",
       "      <td>EDITAR_Y_APROBAR</td>\n",
       "      <td>14721.0</td>\n",
       "      <td>NaN</td>\n",
       "      <td>NaN</td>\n",
       "      <td>NaN</td>\n",
       "    </tr>\n",
       "    <tr>\n",
       "      <th>1</th>\n",
       "      <td>105</td>\n",
       "      <td>2021-01-02 14:14:20.330</td>\n",
       "      <td>2.0</td>\n",
       "      <td>2021-01-02</td>\n",
       "      <td>2021-01-03</td>\n",
       "      <td>EFECTOS ADVERSOS DE VACUNAS VIRALES</td>\n",
       "      <td>NaN</td>\n",
       "      <td>1979-11-08</td>\n",
       "      <td>FEMALE</td>\n",
       "      <td>Médica</td>\n",
       "      <td>OTRO</td>\n",
       "      <td>2.0</td>\n",
       "      <td>EDITAR_Y_APROBAR</td>\n",
       "      <td>14721.0</td>\n",
       "      <td>NaN</td>\n",
       "      <td>NaN</td>\n",
       "      <td>NaN</td>\n",
       "    </tr>\n",
       "    <tr>\n",
       "      <th>2</th>\n",
       "      <td>113806</td>\n",
       "      <td>2021-08-26 09:32:09.396</td>\n",
       "      <td>1.0</td>\n",
       "      <td>2021-08-26</td>\n",
       "      <td>2021-08-26</td>\n",
       "      <td>COLELITIASIS</td>\n",
       "      <td>NaN</td>\n",
       "      <td>1980-10-25</td>\n",
       "      <td>FEMALE</td>\n",
       "      <td>Médica</td>\n",
       "      <td>SOLTERO</td>\n",
       "      <td>0.0</td>\n",
       "      <td>RECHAZAR</td>\n",
       "      <td>14721.0</td>\n",
       "      <td>NaN</td>\n",
       "      <td>NaN</td>\n",
       "      <td>NaN</td>\n",
       "    </tr>\n",
       "    <tr>\n",
       "      <th>3</th>\n",
       "      <td>333787</td>\n",
       "      <td>2022-08-03 20:29:25.519</td>\n",
       "      <td>1.0</td>\n",
       "      <td>2022-08-03</td>\n",
       "      <td>2022-08-03</td>\n",
       "      <td>LUMBAGO NO ESPECIFICADO. CONTRACTURA DORSAL IN...</td>\n",
       "      <td>22.0</td>\n",
       "      <td>1986-12-01</td>\n",
       "      <td>MALE</td>\n",
       "      <td>Médica</td>\n",
       "      <td>SOLTERO</td>\n",
       "      <td>1.0</td>\n",
       "      <td>EDITAR_Y_APROBAR</td>\n",
       "      <td>14721.0</td>\n",
       "      <td>Aprobada</td>\n",
       "      <td>TRAUMATOLOGIA Y ORTOPEDIA</td>\n",
       "      <td>M54.5</td>\n",
       "    </tr>\n",
       "    <tr>\n",
       "      <th>4</th>\n",
       "      <td>428763</td>\n",
       "      <td>2022-12-26 12:41:18.734</td>\n",
       "      <td>2.0</td>\n",
       "      <td>2022-12-26</td>\n",
       "      <td>2022-12-27</td>\n",
       "      <td>COLITIS Y GASTROENTERITIS NO INFECCIOSAS</td>\n",
       "      <td>6.0</td>\n",
       "      <td>1986-12-21</td>\n",
       "      <td>MALE</td>\n",
       "      <td>Médica</td>\n",
       "      <td>SOLTERO</td>\n",
       "      <td>2.0</td>\n",
       "      <td>EDITAR_Y_APROBAR</td>\n",
       "      <td>14721.0</td>\n",
       "      <td>Aprobada</td>\n",
       "      <td>GASTROINTESTINAL</td>\n",
       "      <td>K52</td>\n",
       "    </tr>\n",
       "  </tbody>\n",
       "</table>\n",
       "</div>"
      ],
      "text/plain": [
       "   numero_licencia          fecha_creacion  dias_solicitados fecha_inicio  \\\n",
       "0                1 2021-01-01 00:10:10.418               2.0   2021-01-01   \n",
       "1              105 2021-01-02 14:14:20.330               2.0   2021-01-02   \n",
       "2           113806 2021-08-26 09:32:09.396               1.0   2021-08-26   \n",
       "3           333787 2022-08-03 20:29:25.519               1.0   2022-08-03   \n",
       "4           428763 2022-12-26 12:41:18.734               2.0   2022-12-26   \n",
       "\n",
       "   fecha_fin                                        diagnostico  \\\n",
       "0 2021-01-01                EFECTOS ADVERSOS DE VACUNAS VIRALES   \n",
       "1 2021-01-03                EFECTOS ADVERSOS DE VACUNAS VIRALES   \n",
       "2 2021-08-26                                       COLELITIASIS   \n",
       "3 2022-08-03  LUMBAGO NO ESPECIFICADO. CONTRACTURA DORSAL IN...   \n",
       "4 2022-12-27           COLITIS Y GASTROENTERITIS NO INFECCIOSAS   \n",
       "\n",
       "   id_diagnostico fecha_nacimiento  genero tipo_licencia estado_civil  \\\n",
       "0             NaN       1979-11-28  FEMALE        Médica         OTRO   \n",
       "1             NaN       1979-11-08  FEMALE        Médica         OTRO   \n",
       "2             NaN       1980-10-25  FEMALE        Médica      SOLTERO   \n",
       "3            22.0       1986-12-01    MALE        Médica      SOLTERO   \n",
       "4             6.0       1986-12-21    MALE        Médica      SOLTERO   \n",
       "\n",
       "   dias_aprobados   decision_medica  id_auditor motivo_rechazo  \\\n",
       "0             2.0  EDITAR_Y_APROBAR     14721.0            NaN   \n",
       "1             2.0  EDITAR_Y_APROBAR     14721.0            NaN   \n",
       "2             0.0          RECHAZAR     14721.0            NaN   \n",
       "3             1.0  EDITAR_Y_APROBAR     14721.0       Aprobada   \n",
       "4             2.0  EDITAR_Y_APROBAR     14721.0       Aprobada   \n",
       "\n",
       "       categoria_diagnostico    key  \n",
       "0                        NaN    NaN  \n",
       "1                        NaN    NaN  \n",
       "2                        NaN    NaN  \n",
       "3  TRAUMATOLOGIA Y ORTOPEDIA  M54.5  \n",
       "4           GASTROINTESTINAL    K52  "
      ]
     },
     "execution_count": 33,
     "metadata": {},
     "output_type": "execute_result"
    }
   ],
   "source": [
    "aux_df = pd.merge(relev_df, keys, on='numero_licencia', how='left')\n",
    "aux_df['key'] = aux_df.groupby(['diagnostico'])['key'].fillna(method='ffill')\n",
    "aux_df.head()"
   ]
  },
  {
   "cell_type": "code",
   "execution_count": 34,
   "metadata": {},
   "outputs": [
    {
     "data": {
      "text/plain": [
       "numero_licencia               0\n",
       "fecha_creacion                0\n",
       "dias_solicitados              0\n",
       "fecha_inicio                  0\n",
       "fecha_fin                     0\n",
       "diagnostico                   0\n",
       "id_diagnostico              565\n",
       "fecha_nacimiento              0\n",
       "genero                        0\n",
       "tipo_licencia                 0\n",
       "estado_civil                  0\n",
       "dias_aprobados                0\n",
       "decision_medica               0\n",
       "id_auditor                    0\n",
       "motivo_rechazo           236834\n",
       "categoria_diagnostico      2446\n",
       "key                       68385\n",
       "dtype: int64"
      ]
     },
     "execution_count": 34,
     "metadata": {},
     "output_type": "execute_result"
    }
   ],
   "source": [
    "aux_df.isnull().sum()"
   ]
  },
  {
   "cell_type": "code",
   "execution_count": null,
   "metadata": {},
   "outputs": [],
   "source": [
    "#relev_df['categoria_diagnostico'].value_counts().plot(kind='bar', xlabel='Categoria Diagnostico', ylabel='Count', rot=90)\n",
    "#relev_df['diagnostico'].value_counts().plot(kind='bar', xlabel='Diagnostico', ylabel='Count', rot=90)"
   ]
  },
  {
   "cell_type": "code",
   "execution_count": 24,
   "metadata": {},
   "outputs": [
    {
     "data": {
      "text/html": [
       "<div>\n",
       "<style scoped>\n",
       "    .dataframe tbody tr th:only-of-type {\n",
       "        vertical-align: middle;\n",
       "    }\n",
       "\n",
       "    .dataframe tbody tr th {\n",
       "        vertical-align: top;\n",
       "    }\n",
       "\n",
       "    .dataframe thead th {\n",
       "        text-align: right;\n",
       "    }\n",
       "</style>\n",
       "<table border=\"1\" class=\"dataframe\">\n",
       "  <thead>\n",
       "    <tr style=\"text-align: right;\">\n",
       "      <th></th>\n",
       "      <th>code</th>\n",
       "      <th>code_0</th>\n",
       "      <th>code_1</th>\n",
       "      <th>code_2</th>\n",
       "      <th>code_3</th>\n",
       "      <th>code_4</th>\n",
       "      <th>description</th>\n",
       "      <th>level</th>\n",
       "      <th>source</th>\n",
       "    </tr>\n",
       "  </thead>\n",
       "  <tbody>\n",
       "    <tr>\n",
       "      <th>0</th>\n",
       "      <td>A00-B99</td>\n",
       "      <td>NaN</td>\n",
       "      <td>NaN</td>\n",
       "      <td>NaN</td>\n",
       "      <td>NaN</td>\n",
       "      <td>NaN</td>\n",
       "      <td>CIERTAS ENFERMEDADES INFECCIOSAS Y PARASITARIAS</td>\n",
       "      <td>0</td>\n",
       "      <td>icdcode.info</td>\n",
       "    </tr>\n",
       "    <tr>\n",
       "      <th>1</th>\n",
       "      <td>C00-D49</td>\n",
       "      <td>NaN</td>\n",
       "      <td>NaN</td>\n",
       "      <td>NaN</td>\n",
       "      <td>NaN</td>\n",
       "      <td>NaN</td>\n",
       "      <td>TUMORES [NEOPLASIAS]</td>\n",
       "      <td>0</td>\n",
       "      <td>icdcode.info</td>\n",
       "    </tr>\n",
       "    <tr>\n",
       "      <th>2</th>\n",
       "      <td>D50-D89</td>\n",
       "      <td>NaN</td>\n",
       "      <td>NaN</td>\n",
       "      <td>NaN</td>\n",
       "      <td>NaN</td>\n",
       "      <td>NaN</td>\n",
       "      <td>ENFERMEDADES DE LA SANGRE Y DE LOS ÓRGANOS HEM...</td>\n",
       "      <td>0</td>\n",
       "      <td>icdcode.info</td>\n",
       "    </tr>\n",
       "    <tr>\n",
       "      <th>3</th>\n",
       "      <td>E00-E89</td>\n",
       "      <td>NaN</td>\n",
       "      <td>NaN</td>\n",
       "      <td>NaN</td>\n",
       "      <td>NaN</td>\n",
       "      <td>NaN</td>\n",
       "      <td>ENFERMEDADES ENDOCRINAS, NUTRICIONALES Y METAB...</td>\n",
       "      <td>0</td>\n",
       "      <td>icdcode.info</td>\n",
       "    </tr>\n",
       "    <tr>\n",
       "      <th>4</th>\n",
       "      <td>F01-F99</td>\n",
       "      <td>NaN</td>\n",
       "      <td>NaN</td>\n",
       "      <td>NaN</td>\n",
       "      <td>NaN</td>\n",
       "      <td>NaN</td>\n",
       "      <td>TRASTORNOS MENTALES Y DEL COMPORTAMIENTO</td>\n",
       "      <td>0</td>\n",
       "      <td>icdcode.info</td>\n",
       "    </tr>\n",
       "  </tbody>\n",
       "</table>\n",
       "</div>"
      ],
      "text/plain": [
       "      code code_0 code_1 code_2 code_3 code_4  \\\n",
       "0  A00-B99    NaN    NaN    NaN    NaN    NaN   \n",
       "1  C00-D49    NaN    NaN    NaN    NaN    NaN   \n",
       "2  D50-D89    NaN    NaN    NaN    NaN    NaN   \n",
       "3  E00-E89    NaN    NaN    NaN    NaN    NaN   \n",
       "4  F01-F99    NaN    NaN    NaN    NaN    NaN   \n",
       "\n",
       "                                         description  level        source  \n",
       "0    CIERTAS ENFERMEDADES INFECCIOSAS Y PARASITARIAS      0  icdcode.info  \n",
       "1                               TUMORES [NEOPLASIAS]      0  icdcode.info  \n",
       "2  ENFERMEDADES DE LA SANGRE Y DE LOS ÓRGANOS HEM...      0  icdcode.info  \n",
       "3  ENFERMEDADES ENDOCRINAS, NUTRICIONALES Y METAB...      0  icdcode.info  \n",
       "4           TRASTORNOS MENTALES Y DEL COMPORTAMIENTO      0  icdcode.info  "
      ]
     },
     "execution_count": 24,
     "metadata": {},
     "output_type": "execute_result"
    }
   ],
   "source": [
    "aux_cie_df = df_cod.copy()\n",
    "aux_cie_df['description'] = aux_cie_df['description'].str.upper()\n",
    "aux_cie_df.head()"
   ]
  },
  {
   "cell_type": "code",
   "execution_count": 25,
   "metadata": {},
   "outputs": [
    {
     "data": {
      "text/plain": [
       "numero_licencia               0\n",
       "fecha_creacion                0\n",
       "dias_solicitados              0\n",
       "fecha_inicio                  0\n",
       "fecha_fin                     0\n",
       "diagnostico                   0\n",
       "id_diagnostico              565\n",
       "fecha_nacimiento              0\n",
       "genero                        0\n",
       "tipo_licencia                 0\n",
       "estado_civil                  0\n",
       "dias_aprobados                0\n",
       "decision_medica               0\n",
       "id_auditor                    0\n",
       "motivo_rechazo           236834\n",
       "categoria_diagnostico      2476\n",
       "key                      160520\n",
       "code                     338055\n",
       "code_0                   338055\n",
       "code_1                   338179\n",
       "code_2                   387300\n",
       "code_3                   403609\n",
       "code_4                   420967\n",
       "description              338055\n",
       "level                    338055\n",
       "source                   338055\n",
       "dtype: int64"
      ]
     },
     "execution_count": 25,
     "metadata": {},
     "output_type": "execute_result"
    }
   ],
   "source": [
    "aux2_df = pd.merge(aux_df, aux_cie_df.drop_duplicates(subset=['description']), left_on='diagnostico', right_on='description', how='left')\n",
    "aux2_df.isnull().sum()"
   ]
  },
  {
   "cell_type": "code",
   "execution_count": 186,
   "metadata": {},
   "outputs": [
    {
     "data": {
      "text/html": [
       "<div>\n",
       "<style scoped>\n",
       "    .dataframe tbody tr th:only-of-type {\n",
       "        vertical-align: middle;\n",
       "    }\n",
       "\n",
       "    .dataframe tbody tr th {\n",
       "        vertical-align: top;\n",
       "    }\n",
       "\n",
       "    .dataframe thead th {\n",
       "        text-align: right;\n",
       "    }\n",
       "</style>\n",
       "<table border=\"1\" class=\"dataframe\">\n",
       "  <thead>\n",
       "    <tr style=\"text-align: right;\">\n",
       "      <th></th>\n",
       "      <th>code</th>\n",
       "      <th>code_0</th>\n",
       "      <th>code_1</th>\n",
       "      <th>code_2</th>\n",
       "      <th>code_3</th>\n",
       "      <th>code_4</th>\n",
       "      <th>description</th>\n",
       "      <th>level</th>\n",
       "      <th>source</th>\n",
       "    </tr>\n",
       "  </thead>\n",
       "  <tbody>\n",
       "    <tr>\n",
       "      <th>10549</th>\n",
       "      <td>Y58</td>\n",
       "      <td>V01-Y99</td>\n",
       "      <td>Y40-Y84</td>\n",
       "      <td>Y40-Y59</td>\n",
       "      <td>NaN</td>\n",
       "      <td>NaN</td>\n",
       "      <td>Efectos adversos de vacunas bacterianas</td>\n",
       "      <td>3</td>\n",
       "      <td>icdcode.info</td>\n",
       "    </tr>\n",
       "    <tr>\n",
       "      <th>10922</th>\n",
       "      <td>Y590</td>\n",
       "      <td>V01-Y99</td>\n",
       "      <td>Y40-Y84</td>\n",
       "      <td>Y40-Y59</td>\n",
       "      <td>Y59</td>\n",
       "      <td>NaN</td>\n",
       "      <td>Efectos adversos de vacunas virales</td>\n",
       "      <td>4</td>\n",
       "      <td>icdcode.info</td>\n",
       "    </tr>\n",
       "    <tr>\n",
       "      <th>10923</th>\n",
       "      <td>Y591</td>\n",
       "      <td>V01-Y99</td>\n",
       "      <td>Y40-Y84</td>\n",
       "      <td>Y40-Y59</td>\n",
       "      <td>Y59</td>\n",
       "      <td>NaN</td>\n",
       "      <td>Efectos adversos de vacunas contra rickettsias</td>\n",
       "      <td>4</td>\n",
       "      <td>icdcode.info</td>\n",
       "    </tr>\n",
       "    <tr>\n",
       "      <th>10924</th>\n",
       "      <td>Y592</td>\n",
       "      <td>V01-Y99</td>\n",
       "      <td>Y40-Y84</td>\n",
       "      <td>Y40-Y59</td>\n",
       "      <td>Y59</td>\n",
       "      <td>NaN</td>\n",
       "      <td>Efectos adversos de vacunas antiprotozoarias</td>\n",
       "      <td>4</td>\n",
       "      <td>icdcode.info</td>\n",
       "    </tr>\n",
       "    <tr>\n",
       "      <th>10927</th>\n",
       "      <td>Y599</td>\n",
       "      <td>V01-Y99</td>\n",
       "      <td>Y40-Y84</td>\n",
       "      <td>Y40-Y59</td>\n",
       "      <td>Y59</td>\n",
       "      <td>NaN</td>\n",
       "      <td>Efectos adversos de vacunas o sustancias bioló...</td>\n",
       "      <td>4</td>\n",
       "      <td>icdcode.info</td>\n",
       "    </tr>\n",
       "    <tr>\n",
       "      <th>10935</th>\n",
       "      <td>Y588</td>\n",
       "      <td>V01-Y99</td>\n",
       "      <td>Y40-Y84</td>\n",
       "      <td>Y40-Y59</td>\n",
       "      <td>Y58</td>\n",
       "      <td>NaN</td>\n",
       "      <td>Efectos adversos de vacunas bacterianas mixtas...</td>\n",
       "      <td>4</td>\n",
       "      <td>icdcode.info</td>\n",
       "    </tr>\n",
       "  </tbody>\n",
       "</table>\n",
       "</div>"
      ],
      "text/plain": [
       "       code   code_0   code_1   code_2 code_3 code_4  \\\n",
       "10549   Y58  V01-Y99  Y40-Y84  Y40-Y59    NaN    NaN   \n",
       "10922  Y590  V01-Y99  Y40-Y84  Y40-Y59    Y59    NaN   \n",
       "10923  Y591  V01-Y99  Y40-Y84  Y40-Y59    Y59    NaN   \n",
       "10924  Y592  V01-Y99  Y40-Y84  Y40-Y59    Y59    NaN   \n",
       "10927  Y599  V01-Y99  Y40-Y84  Y40-Y59    Y59    NaN   \n",
       "10935  Y588  V01-Y99  Y40-Y84  Y40-Y59    Y58    NaN   \n",
       "\n",
       "                                             description  level        source  \n",
       "10549            Efectos adversos de vacunas bacterianas      3  icdcode.info  \n",
       "10922                Efectos adversos de vacunas virales      4  icdcode.info  \n",
       "10923     Efectos adversos de vacunas contra rickettsias      4  icdcode.info  \n",
       "10924       Efectos adversos de vacunas antiprotozoarias      4  icdcode.info  \n",
       "10927  Efectos adversos de vacunas o sustancias bioló...      4  icdcode.info  \n",
       "10935  Efectos adversos de vacunas bacterianas mixtas...      4  icdcode.info  "
      ]
     },
     "execution_count": 186,
     "metadata": {},
     "output_type": "execute_result"
    }
   ],
   "source": [
    "\n",
    "#df_cod['description'].str.contains('dversos').any()\n",
    "#df_cod['description'].str.contains('dversos').sum()\n",
    "#df_cod['description'].str.upper()\n",
    "df_cod[df_cod['description'].str.contains('dversos de vacunas')]\n",
    "#df_cod[df_cod['description'].str.contains('DVERSOS DE VACUNAS')]"
   ]
  },
  {
   "cell_type": "code",
   "execution_count": 47,
   "metadata": {},
   "outputs": [
    {
     "data": {
      "text/html": [
       "<div>\n",
       "<style scoped>\n",
       "    .dataframe tbody tr th:only-of-type {\n",
       "        vertical-align: middle;\n",
       "    }\n",
       "\n",
       "    .dataframe tbody tr th {\n",
       "        vertical-align: top;\n",
       "    }\n",
       "\n",
       "    .dataframe thead th {\n",
       "        text-align: right;\n",
       "    }\n",
       "</style>\n",
       "<table border=\"1\" class=\"dataframe\">\n",
       "  <thead>\n",
       "    <tr style=\"text-align: right;\">\n",
       "      <th></th>\n",
       "      <th>numero_licencia</th>\n",
       "      <th>fecha_creacion</th>\n",
       "      <th>dias_solicitados</th>\n",
       "      <th>fecha_inicio</th>\n",
       "      <th>fecha_fin</th>\n",
       "      <th>diagnostico</th>\n",
       "      <th>id_diagnostico</th>\n",
       "      <th>fecha_nacimiento</th>\n",
       "      <th>genero</th>\n",
       "      <th>tipo_licencia</th>\n",
       "      <th>...</th>\n",
       "      <th>key</th>\n",
       "      <th>code</th>\n",
       "      <th>code_0</th>\n",
       "      <th>code_1</th>\n",
       "      <th>code_2</th>\n",
       "      <th>code_3</th>\n",
       "      <th>code_4</th>\n",
       "      <th>description</th>\n",
       "      <th>level</th>\n",
       "      <th>source</th>\n",
       "    </tr>\n",
       "  </thead>\n",
       "  <tbody>\n",
       "    <tr>\n",
       "      <th>0</th>\n",
       "      <td>1</td>\n",
       "      <td>2021-01-01 00:10:10.418</td>\n",
       "      <td>2.0</td>\n",
       "      <td>2021-01-01</td>\n",
       "      <td>2021-01-01</td>\n",
       "      <td>EFECTOS ADVERSOS DE VACUNAS VIRALES</td>\n",
       "      <td>NaN</td>\n",
       "      <td>1979-11-28</td>\n",
       "      <td>FEMALE</td>\n",
       "      <td>Médica</td>\n",
       "      <td>...</td>\n",
       "      <td>NaN</td>\n",
       "      <td>Y590</td>\n",
       "      <td>V01-Y99</td>\n",
       "      <td>Y40-Y84</td>\n",
       "      <td>Y40-Y59</td>\n",
       "      <td>Y59</td>\n",
       "      <td>NaN</td>\n",
       "      <td>EFECTOS ADVERSOS DE VACUNAS VIRALES</td>\n",
       "      <td>4.0</td>\n",
       "      <td>icdcode.info</td>\n",
       "    </tr>\n",
       "  </tbody>\n",
       "</table>\n",
       "<p>1 rows × 26 columns</p>\n",
       "</div>"
      ],
      "text/plain": [
       "   numero_licencia          fecha_creacion  dias_solicitados fecha_inicio  \\\n",
       "0                1 2021-01-01 00:10:10.418               2.0   2021-01-01   \n",
       "\n",
       "   fecha_fin                          diagnostico  id_diagnostico  \\\n",
       "0 2021-01-01  EFECTOS ADVERSOS DE VACUNAS VIRALES             NaN   \n",
       "\n",
       "  fecha_nacimiento  genero tipo_licencia  ...  key  code   code_0   code_1  \\\n",
       "0       1979-11-28  FEMALE        Médica  ...  NaN  Y590  V01-Y99  Y40-Y84   \n",
       "\n",
       "    code_2 code_3 code_4                          description level  \\\n",
       "0  Y40-Y59    Y59    NaN  EFECTOS ADVERSOS DE VACUNAS VIRALES   4.0   \n",
       "\n",
       "         source  \n",
       "0  icdcode.info  \n",
       "\n",
       "[1 rows x 26 columns]"
      ]
     },
     "execution_count": 47,
     "metadata": {},
     "output_type": "execute_result"
    }
   ],
   "source": [
    "aux2_df[aux2_df['numero_licencia'] == 1]['key'] = aux2_df[aux2_df['numero_licencia'] == 1]['code']\n",
    "aux2_df[aux2_df['numero_licencia'] == 1]\n",
    "#aux2_df.dtypes"
   ]
  },
  {
   "cell_type": "code",
   "execution_count": 28,
   "metadata": {},
   "outputs": [
    {
     "data": {
      "text/html": [
       "<div>\n",
       "<style scoped>\n",
       "    .dataframe tbody tr th:only-of-type {\n",
       "        vertical-align: middle;\n",
       "    }\n",
       "\n",
       "    .dataframe tbody tr th {\n",
       "        vertical-align: top;\n",
       "    }\n",
       "\n",
       "    .dataframe thead th {\n",
       "        text-align: right;\n",
       "    }\n",
       "</style>\n",
       "<table border=\"1\" class=\"dataframe\">\n",
       "  <thead>\n",
       "    <tr style=\"text-align: right;\">\n",
       "      <th></th>\n",
       "      <th>numero_licencia</th>\n",
       "      <th>fecha_creacion</th>\n",
       "      <th>dias_solicitados</th>\n",
       "      <th>fecha_inicio</th>\n",
       "      <th>fecha_fin</th>\n",
       "      <th>diagnostico</th>\n",
       "      <th>id_diagnostico</th>\n",
       "      <th>fecha_nacimiento</th>\n",
       "      <th>genero</th>\n",
       "      <th>tipo_licencia</th>\n",
       "      <th>...</th>\n",
       "      <th>key</th>\n",
       "      <th>code</th>\n",
       "      <th>code_0</th>\n",
       "      <th>code_1</th>\n",
       "      <th>code_2</th>\n",
       "      <th>code_3</th>\n",
       "      <th>code_4</th>\n",
       "      <th>description</th>\n",
       "      <th>level</th>\n",
       "      <th>source</th>\n",
       "    </tr>\n",
       "  </thead>\n",
       "  <tbody>\n",
       "    <tr>\n",
       "      <th>119</th>\n",
       "      <td>627</td>\n",
       "      <td>2021-01-07 13:06:30.285</td>\n",
       "      <td>2.0</td>\n",
       "      <td>2021-01-07</td>\n",
       "      <td>2021-01-08</td>\n",
       "      <td>EFECTOS ADVERSOS DE VACUNAS VIRALES</td>\n",
       "      <td>33.0</td>\n",
       "      <td>1977-12-06</td>\n",
       "      <td>FEMALE</td>\n",
       "      <td>Médica</td>\n",
       "      <td>...</td>\n",
       "      <td>Y590</td>\n",
       "      <td>Y590</td>\n",
       "      <td>V01-Y99</td>\n",
       "      <td>Y40-Y84</td>\n",
       "      <td>Y40-Y59</td>\n",
       "      <td>Y59</td>\n",
       "      <td>NaN</td>\n",
       "      <td>EFECTOS ADVERSOS DE VACUNAS VIRALES</td>\n",
       "      <td>4.0</td>\n",
       "      <td>icdcode.info</td>\n",
       "    </tr>\n",
       "    <tr>\n",
       "      <th>140</th>\n",
       "      <td>747</td>\n",
       "      <td>2021-01-08 13:04:35.081</td>\n",
       "      <td>6.0</td>\n",
       "      <td>2021-01-08</td>\n",
       "      <td>2021-01-08</td>\n",
       "      <td>EFECTOS ADVERSOS DE VACUNAS VIRALES</td>\n",
       "      <td>33.0</td>\n",
       "      <td>1983-06-16</td>\n",
       "      <td>MALE</td>\n",
       "      <td>Médica</td>\n",
       "      <td>...</td>\n",
       "      <td>Y590</td>\n",
       "      <td>Y590</td>\n",
       "      <td>V01-Y99</td>\n",
       "      <td>Y40-Y84</td>\n",
       "      <td>Y40-Y59</td>\n",
       "      <td>Y59</td>\n",
       "      <td>NaN</td>\n",
       "      <td>EFECTOS ADVERSOS DE VACUNAS VIRALES</td>\n",
       "      <td>4.0</td>\n",
       "      <td>icdcode.info</td>\n",
       "    </tr>\n",
       "    <tr>\n",
       "      <th>145</th>\n",
       "      <td>754</td>\n",
       "      <td>2021-01-08 14:30:24.797</td>\n",
       "      <td>1.0</td>\n",
       "      <td>2021-01-08</td>\n",
       "      <td>2021-01-08</td>\n",
       "      <td>EFECTOS ADVERSOS DE VACUNAS VIRALES</td>\n",
       "      <td>33.0</td>\n",
       "      <td>1992-04-24</td>\n",
       "      <td>FEMALE</td>\n",
       "      <td>Médica</td>\n",
       "      <td>...</td>\n",
       "      <td>Y590</td>\n",
       "      <td>Y590</td>\n",
       "      <td>V01-Y99</td>\n",
       "      <td>Y40-Y84</td>\n",
       "      <td>Y40-Y59</td>\n",
       "      <td>Y59</td>\n",
       "      <td>NaN</td>\n",
       "      <td>EFECTOS ADVERSOS DE VACUNAS VIRALES</td>\n",
       "      <td>4.0</td>\n",
       "      <td>icdcode.info</td>\n",
       "    </tr>\n",
       "    <tr>\n",
       "      <th>159</th>\n",
       "      <td>870</td>\n",
       "      <td>2021-01-09 21:26:09.817</td>\n",
       "      <td>24.0</td>\n",
       "      <td>2021-01-09</td>\n",
       "      <td>2021-01-10</td>\n",
       "      <td>EFECTOS ADVERSOS DE VACUNAS VIRALES</td>\n",
       "      <td>33.0</td>\n",
       "      <td>1971-11-21</td>\n",
       "      <td>FEMALE</td>\n",
       "      <td>Médica</td>\n",
       "      <td>...</td>\n",
       "      <td>Y590</td>\n",
       "      <td>Y590</td>\n",
       "      <td>V01-Y99</td>\n",
       "      <td>Y40-Y84</td>\n",
       "      <td>Y40-Y59</td>\n",
       "      <td>Y59</td>\n",
       "      <td>NaN</td>\n",
       "      <td>EFECTOS ADVERSOS DE VACUNAS VIRALES</td>\n",
       "      <td>4.0</td>\n",
       "      <td>icdcode.info</td>\n",
       "    </tr>\n",
       "    <tr>\n",
       "      <th>161</th>\n",
       "      <td>117710</td>\n",
       "      <td>2021-08-29 23:08:35.032</td>\n",
       "      <td>1.0</td>\n",
       "      <td>2021-08-29</td>\n",
       "      <td>2021-08-29</td>\n",
       "      <td>DOLOR EN MIEMBRO</td>\n",
       "      <td>130.0</td>\n",
       "      <td>1976-09-16</td>\n",
       "      <td>MALE</td>\n",
       "      <td>Médica</td>\n",
       "      <td>...</td>\n",
       "      <td>M796</td>\n",
       "      <td>M796</td>\n",
       "      <td>M00-M99</td>\n",
       "      <td>M60-M79</td>\n",
       "      <td>M70-M79</td>\n",
       "      <td>M79</td>\n",
       "      <td>NaN</td>\n",
       "      <td>DOLOR EN MIEMBRO</td>\n",
       "      <td>4.0</td>\n",
       "      <td>icdcode.info</td>\n",
       "    </tr>\n",
       "    <tr>\n",
       "      <th>...</th>\n",
       "      <td>...</td>\n",
       "      <td>...</td>\n",
       "      <td>...</td>\n",
       "      <td>...</td>\n",
       "      <td>...</td>\n",
       "      <td>...</td>\n",
       "      <td>...</td>\n",
       "      <td>...</td>\n",
       "      <td>...</td>\n",
       "      <td>...</td>\n",
       "      <td>...</td>\n",
       "      <td>...</td>\n",
       "      <td>...</td>\n",
       "      <td>...</td>\n",
       "      <td>...</td>\n",
       "      <td>...</td>\n",
       "      <td>...</td>\n",
       "      <td>...</td>\n",
       "      <td>...</td>\n",
       "      <td>...</td>\n",
       "      <td>...</td>\n",
       "    </tr>\n",
       "    <tr>\n",
       "      <th>420892</th>\n",
       "      <td>25387</td>\n",
       "      <td>2021-04-08 10:42:10.213</td>\n",
       "      <td>3.0</td>\n",
       "      <td>2021-04-08</td>\n",
       "      <td>2021-04-09</td>\n",
       "      <td>FARINGITIS AGUDA</td>\n",
       "      <td>54.0</td>\n",
       "      <td>1965-12-10</td>\n",
       "      <td>FEMALE</td>\n",
       "      <td>Médica</td>\n",
       "      <td>...</td>\n",
       "      <td>J02</td>\n",
       "      <td>J02</td>\n",
       "      <td>J00-J99</td>\n",
       "      <td>J00-J06</td>\n",
       "      <td>NaN</td>\n",
       "      <td>NaN</td>\n",
       "      <td>NaN</td>\n",
       "      <td>FARINGITIS AGUDA</td>\n",
       "      <td>2.0</td>\n",
       "      <td>icdcode.info</td>\n",
       "    </tr>\n",
       "    <tr>\n",
       "      <th>420900</th>\n",
       "      <td>24171</td>\n",
       "      <td>2021-04-07 08:32:44.306</td>\n",
       "      <td>4.0</td>\n",
       "      <td>2021-04-07</td>\n",
       "      <td>2021-04-08</td>\n",
       "      <td>LARINGOFARINGITIS AGUDA</td>\n",
       "      <td>9.0</td>\n",
       "      <td>1986-07-08</td>\n",
       "      <td>FEMALE</td>\n",
       "      <td>Médica</td>\n",
       "      <td>...</td>\n",
       "      <td>J060</td>\n",
       "      <td>J060</td>\n",
       "      <td>J00-J99</td>\n",
       "      <td>J00-J06</td>\n",
       "      <td>J06</td>\n",
       "      <td>NaN</td>\n",
       "      <td>NaN</td>\n",
       "      <td>LARINGOFARINGITIS AGUDA</td>\n",
       "      <td>3.0</td>\n",
       "      <td>icdcode.info</td>\n",
       "    </tr>\n",
       "    <tr>\n",
       "      <th>420901</th>\n",
       "      <td>24360</td>\n",
       "      <td>2021-04-07 11:02:04.817</td>\n",
       "      <td>2.0</td>\n",
       "      <td>2021-04-07</td>\n",
       "      <td>2021-04-08</td>\n",
       "      <td>CERVICALGIA</td>\n",
       "      <td>71.0</td>\n",
       "      <td>1986-01-20</td>\n",
       "      <td>FEMALE</td>\n",
       "      <td>Médica</td>\n",
       "      <td>...</td>\n",
       "      <td>M542</td>\n",
       "      <td>M542</td>\n",
       "      <td>M00-M99</td>\n",
       "      <td>M40-M54</td>\n",
       "      <td>M50-M54</td>\n",
       "      <td>M54</td>\n",
       "      <td>NaN</td>\n",
       "      <td>CERVICALGIA</td>\n",
       "      <td>4.0</td>\n",
       "      <td>icdcode.info</td>\n",
       "    </tr>\n",
       "    <tr>\n",
       "      <th>420911</th>\n",
       "      <td>24292</td>\n",
       "      <td>2021-04-07 10:24:15.076</td>\n",
       "      <td>3.0</td>\n",
       "      <td>2021-04-07</td>\n",
       "      <td>2021-04-07</td>\n",
       "      <td>TRAUMATISMO POR APLASTAMIENTO DEL PIE Y DEL TO...</td>\n",
       "      <td>154.0</td>\n",
       "      <td>1963-08-11</td>\n",
       "      <td>FEMALE</td>\n",
       "      <td>Médica</td>\n",
       "      <td>...</td>\n",
       "      <td>S97</td>\n",
       "      <td>S97</td>\n",
       "      <td>S00-T88</td>\n",
       "      <td>S90-S99</td>\n",
       "      <td>NaN</td>\n",
       "      <td>NaN</td>\n",
       "      <td>NaN</td>\n",
       "      <td>TRAUMATISMO POR APLASTAMIENTO DEL PIE Y DEL TO...</td>\n",
       "      <td>2.0</td>\n",
       "      <td>icdcode.info</td>\n",
       "    </tr>\n",
       "    <tr>\n",
       "      <th>420912</th>\n",
       "      <td>25378</td>\n",
       "      <td>2021-04-08 10:35:47.304</td>\n",
       "      <td>21.0</td>\n",
       "      <td>2021-04-08</td>\n",
       "      <td>2021-04-28</td>\n",
       "      <td>TRAUMATISMO POR APLASTAMIENTO DEL PIE Y DEL TO...</td>\n",
       "      <td>154.0</td>\n",
       "      <td>1963-07-29</td>\n",
       "      <td>FEMALE</td>\n",
       "      <td>Médica</td>\n",
       "      <td>...</td>\n",
       "      <td>S97</td>\n",
       "      <td>S97</td>\n",
       "      <td>S00-T88</td>\n",
       "      <td>S90-S99</td>\n",
       "      <td>NaN</td>\n",
       "      <td>NaN</td>\n",
       "      <td>NaN</td>\n",
       "      <td>TRAUMATISMO POR APLASTAMIENTO DEL PIE Y DEL TO...</td>\n",
       "      <td>2.0</td>\n",
       "      <td>icdcode.info</td>\n",
       "    </tr>\n",
       "  </tbody>\n",
       "</table>\n",
       "<p>23462 rows × 26 columns</p>\n",
       "</div>"
      ],
      "text/plain": [
       "        numero_licencia           fecha_creacion  dias_solicitados  \\\n",
       "119                 627  2021-01-07 13:06:30.285               2.0   \n",
       "140                 747  2021-01-08 13:04:35.081               6.0   \n",
       "145                 754  2021-01-08 14:30:24.797               1.0   \n",
       "159                 870  2021-01-09 21:26:09.817              24.0   \n",
       "161              117710  2021-08-29 23:08:35.032               1.0   \n",
       "...                 ...                      ...               ...   \n",
       "420892            25387  2021-04-08 10:42:10.213               3.0   \n",
       "420900            24171  2021-04-07 08:32:44.306               4.0   \n",
       "420901            24360  2021-04-07 11:02:04.817               2.0   \n",
       "420911            24292  2021-04-07 10:24:15.076               3.0   \n",
       "420912            25378  2021-04-08 10:35:47.304              21.0   \n",
       "\n",
       "       fecha_inicio   fecha_fin  \\\n",
       "119      2021-01-07  2021-01-08   \n",
       "140      2021-01-08  2021-01-08   \n",
       "145      2021-01-08  2021-01-08   \n",
       "159      2021-01-09  2021-01-10   \n",
       "161      2021-08-29  2021-08-29   \n",
       "...             ...         ...   \n",
       "420892   2021-04-08  2021-04-09   \n",
       "420900   2021-04-07  2021-04-08   \n",
       "420901   2021-04-07  2021-04-08   \n",
       "420911   2021-04-07  2021-04-07   \n",
       "420912   2021-04-08  2021-04-28   \n",
       "\n",
       "                                              diagnostico  id_diagnostico  \\\n",
       "119                   EFECTOS ADVERSOS DE VACUNAS VIRALES            33.0   \n",
       "140                   EFECTOS ADVERSOS DE VACUNAS VIRALES            33.0   \n",
       "145                   EFECTOS ADVERSOS DE VACUNAS VIRALES            33.0   \n",
       "159                   EFECTOS ADVERSOS DE VACUNAS VIRALES            33.0   \n",
       "161                                      DOLOR EN MIEMBRO           130.0   \n",
       "...                                                   ...             ...   \n",
       "420892                                   FARINGITIS AGUDA            54.0   \n",
       "420900                            LARINGOFARINGITIS AGUDA             9.0   \n",
       "420901                                        CERVICALGIA            71.0   \n",
       "420911  TRAUMATISMO POR APLASTAMIENTO DEL PIE Y DEL TO...           154.0   \n",
       "420912  TRAUMATISMO POR APLASTAMIENTO DEL PIE Y DEL TO...           154.0   \n",
       "\n",
       "       fecha_nacimiento  genero tipo_licencia  ...   key  code   code_0  \\\n",
       "119          1977-12-06  FEMALE        Médica  ...  Y590  Y590  V01-Y99   \n",
       "140          1983-06-16    MALE        Médica  ...  Y590  Y590  V01-Y99   \n",
       "145          1992-04-24  FEMALE        Médica  ...  Y590  Y590  V01-Y99   \n",
       "159          1971-11-21  FEMALE        Médica  ...  Y590  Y590  V01-Y99   \n",
       "161          1976-09-16    MALE        Médica  ...  M796  M796  M00-M99   \n",
       "...                 ...     ...           ...  ...   ...   ...      ...   \n",
       "420892       1965-12-10  FEMALE        Médica  ...   J02   J02  J00-J99   \n",
       "420900       1986-07-08  FEMALE        Médica  ...  J060  J060  J00-J99   \n",
       "420901       1986-01-20  FEMALE        Médica  ...  M542  M542  M00-M99   \n",
       "420911       1963-08-11  FEMALE        Médica  ...   S97   S97  S00-T88   \n",
       "420912       1963-07-29  FEMALE        Médica  ...   S97   S97  S00-T88   \n",
       "\n",
       "         code_1   code_2 code_3 code_4  \\\n",
       "119     Y40-Y84  Y40-Y59    Y59    NaN   \n",
       "140     Y40-Y84  Y40-Y59    Y59    NaN   \n",
       "145     Y40-Y84  Y40-Y59    Y59    NaN   \n",
       "159     Y40-Y84  Y40-Y59    Y59    NaN   \n",
       "161     M60-M79  M70-M79    M79    NaN   \n",
       "...         ...      ...    ...    ...   \n",
       "420892  J00-J06      NaN    NaN    NaN   \n",
       "420900  J00-J06      J06    NaN    NaN   \n",
       "420901  M40-M54  M50-M54    M54    NaN   \n",
       "420911  S90-S99      NaN    NaN    NaN   \n",
       "420912  S90-S99      NaN    NaN    NaN   \n",
       "\n",
       "                                              description level        source  \n",
       "119                   EFECTOS ADVERSOS DE VACUNAS VIRALES   4.0  icdcode.info  \n",
       "140                   EFECTOS ADVERSOS DE VACUNAS VIRALES   4.0  icdcode.info  \n",
       "145                   EFECTOS ADVERSOS DE VACUNAS VIRALES   4.0  icdcode.info  \n",
       "159                   EFECTOS ADVERSOS DE VACUNAS VIRALES   4.0  icdcode.info  \n",
       "161                                      DOLOR EN MIEMBRO   4.0  icdcode.info  \n",
       "...                                                   ...   ...           ...  \n",
       "420892                                   FARINGITIS AGUDA   2.0  icdcode.info  \n",
       "420900                            LARINGOFARINGITIS AGUDA   3.0  icdcode.info  \n",
       "420901                                        CERVICALGIA   4.0  icdcode.info  \n",
       "420911  TRAUMATISMO POR APLASTAMIENTO DEL PIE Y DEL TO...   2.0  icdcode.info  \n",
       "420912  TRAUMATISMO POR APLASTAMIENTO DEL PIE Y DEL TO...   2.0  icdcode.info  \n",
       "\n",
       "[23462 rows x 26 columns]"
      ]
     },
     "execution_count": 28,
     "metadata": {},
     "output_type": "execute_result"
    }
   ],
   "source": [
    "conditions = (aux2_df['diagnostico'].notnull()) & (aux2_df['key'].isnull()) & (aux2_df['code'].notnull()) \n",
    "aux2_df.loc[conditions, 'key']=aux2_df.loc[conditions, 'code']\n",
    "aux2_df.loc[conditions]\n",
    "\n",
    "#aux2_df[][['diagnostico', 'id_diagnostico','key', 'code', 'description']]"
   ]
  },
  {
   "cell_type": "code",
   "execution_count": 29,
   "metadata": {},
   "outputs": [
    {
     "data": {
      "text/plain": [
       "numero_licencia               0\n",
       "fecha_creacion                0\n",
       "dias_solicitados              0\n",
       "fecha_inicio                  0\n",
       "fecha_fin                     0\n",
       "diagnostico                   0\n",
       "id_diagnostico              565\n",
       "fecha_nacimiento              0\n",
       "genero                        0\n",
       "tipo_licencia                 0\n",
       "estado_civil                  0\n",
       "dias_aprobados                0\n",
       "decision_medica               0\n",
       "id_auditor                    0\n",
       "motivo_rechazo           236834\n",
       "categoria_diagnostico      2476\n",
       "key                      136907\n",
       "code                     338055\n",
       "code_0                   338055\n",
       "code_1                   338179\n",
       "code_2                   387300\n",
       "code_3                   403609\n",
       "code_4                   420967\n",
       "description              338055\n",
       "level                    338055\n",
       "source                   338055\n",
       "dtype: int64"
      ]
     },
     "execution_count": 29,
     "metadata": {},
     "output_type": "execute_result"
    }
   ],
   "source": [
    "aux2_df.isnull().sum()"
   ]
  },
  {
   "cell_type": "code",
   "execution_count": 125,
   "metadata": {},
   "outputs": [
    {
     "data": {
      "text/plain": [
       "(430081, 2)"
      ]
     },
     "execution_count": 125,
     "metadata": {},
     "output_type": "execute_result"
    }
   ],
   "source": [
    "keys.shape"
   ]
  },
  {
   "attachments": {},
   "cell_type": "markdown",
   "metadata": {},
   "source": [
    "### 4) Generación de columnas temporales "
   ]
  },
  {
   "attachments": {},
   "cell_type": "markdown",
   "metadata": {},
   "source": [
    "A partir de la columna *fecha_creacion* se crearán las siguientes columnas temporales\n",
    " - *fecha_creacion_DOY*: número de día en el año \n",
    " - *fecha_creacion_WOY*: número de semana en el año\n",
    " - *fecha_creacion_MOY*: número de mes en el año   \n",
    " - *fecha_creacion_estacion*: estación en el año   "
   ]
  },
  {
   "cell_type": "code",
   "execution_count": 43,
   "metadata": {},
   "outputs": [
    {
     "data": {
      "text/html": [
       "<div>\n",
       "<style scoped>\n",
       "    .dataframe tbody tr th:only-of-type {\n",
       "        vertical-align: middle;\n",
       "    }\n",
       "\n",
       "    .dataframe tbody tr th {\n",
       "        vertical-align: top;\n",
       "    }\n",
       "\n",
       "    .dataframe thead th {\n",
       "        text-align: right;\n",
       "    }\n",
       "</style>\n",
       "<table border=\"1\" class=\"dataframe\">\n",
       "  <thead>\n",
       "    <tr style=\"text-align: right;\">\n",
       "      <th></th>\n",
       "      <th>numero_licencia</th>\n",
       "      <th>fecha_creacion</th>\n",
       "      <th>dias_solicitados</th>\n",
       "      <th>fecha_inicio</th>\n",
       "      <th>fecha_fin</th>\n",
       "      <th>diagnostico</th>\n",
       "      <th>id_diagnostico</th>\n",
       "      <th>fecha_nacimiento</th>\n",
       "      <th>genero</th>\n",
       "      <th>tipo_licencia</th>\n",
       "      <th>estado_civil</th>\n",
       "      <th>dias_aprobados</th>\n",
       "      <th>decision_medica</th>\n",
       "      <th>id_auditor</th>\n",
       "      <th>motivo_rechazo</th>\n",
       "      <th>categoria_diagnostico</th>\n",
       "      <th>fecha_creacion_DOY</th>\n",
       "      <th>fecha_creacion_WOY</th>\n",
       "      <th>fecha_creacion_MOY</th>\n",
       "      <th>fecha_creacion_estacion</th>\n",
       "    </tr>\n",
       "  </thead>\n",
       "  <tbody>\n",
       "    <tr>\n",
       "      <th>0</th>\n",
       "      <td>1</td>\n",
       "      <td>2021-01-01 00:10:10.418</td>\n",
       "      <td>2.0</td>\n",
       "      <td>2021-01-01</td>\n",
       "      <td>2021-01-01</td>\n",
       "      <td>EFECTOS ADVERSOS DE VACUNAS VIRALES</td>\n",
       "      <td>NaN</td>\n",
       "      <td>1979-11-28</td>\n",
       "      <td>FEMALE</td>\n",
       "      <td>Médica</td>\n",
       "      <td>OTRO</td>\n",
       "      <td>2.0</td>\n",
       "      <td>EDITAR_Y_APROBAR</td>\n",
       "      <td>14721.0</td>\n",
       "      <td>NaN</td>\n",
       "      <td>NaN</td>\n",
       "      <td>001</td>\n",
       "      <td>00</td>\n",
       "      <td>01</td>\n",
       "      <td>VERANO</td>\n",
       "    </tr>\n",
       "    <tr>\n",
       "      <th>1</th>\n",
       "      <td>105</td>\n",
       "      <td>2021-01-02 14:14:20.330</td>\n",
       "      <td>2.0</td>\n",
       "      <td>2021-01-02</td>\n",
       "      <td>2021-01-03</td>\n",
       "      <td>EFECTOS ADVERSOS DE VACUNAS VIRALES</td>\n",
       "      <td>NaN</td>\n",
       "      <td>1979-11-08</td>\n",
       "      <td>FEMALE</td>\n",
       "      <td>Médica</td>\n",
       "      <td>OTRO</td>\n",
       "      <td>2.0</td>\n",
       "      <td>EDITAR_Y_APROBAR</td>\n",
       "      <td>14721.0</td>\n",
       "      <td>NaN</td>\n",
       "      <td>NaN</td>\n",
       "      <td>002</td>\n",
       "      <td>00</td>\n",
       "      <td>01</td>\n",
       "      <td>VERANO</td>\n",
       "    </tr>\n",
       "    <tr>\n",
       "      <th>2</th>\n",
       "      <td>113806</td>\n",
       "      <td>2021-08-26 09:32:09.396</td>\n",
       "      <td>1.0</td>\n",
       "      <td>2021-08-26</td>\n",
       "      <td>2021-08-26</td>\n",
       "      <td>COLELITIASIS</td>\n",
       "      <td>NaN</td>\n",
       "      <td>1980-10-25</td>\n",
       "      <td>FEMALE</td>\n",
       "      <td>Médica</td>\n",
       "      <td>SOLTERO</td>\n",
       "      <td>0.0</td>\n",
       "      <td>RECHAZAR</td>\n",
       "      <td>14721.0</td>\n",
       "      <td>NaN</td>\n",
       "      <td>NaN</td>\n",
       "      <td>238</td>\n",
       "      <td>34</td>\n",
       "      <td>08</td>\n",
       "      <td>INVIERNO</td>\n",
       "    </tr>\n",
       "    <tr>\n",
       "      <th>3</th>\n",
       "      <td>333787</td>\n",
       "      <td>2022-08-03 20:29:25.519</td>\n",
       "      <td>1.0</td>\n",
       "      <td>2022-08-03</td>\n",
       "      <td>2022-08-03</td>\n",
       "      <td>LUMBAGO NO ESPECIFICADO. CONTRACTURA DORSAL IN...</td>\n",
       "      <td>22.0</td>\n",
       "      <td>1986-12-01</td>\n",
       "      <td>MALE</td>\n",
       "      <td>Médica</td>\n",
       "      <td>SOLTERO</td>\n",
       "      <td>1.0</td>\n",
       "      <td>EDITAR_Y_APROBAR</td>\n",
       "      <td>14721.0</td>\n",
       "      <td>Aprobada</td>\n",
       "      <td>TRAUMATOLOGIA Y ORTOPEDIA</td>\n",
       "      <td>215</td>\n",
       "      <td>31</td>\n",
       "      <td>08</td>\n",
       "      <td>INVIERNO</td>\n",
       "    </tr>\n",
       "    <tr>\n",
       "      <th>4</th>\n",
       "      <td>428763</td>\n",
       "      <td>2022-12-26 12:41:18.734</td>\n",
       "      <td>2.0</td>\n",
       "      <td>2022-12-26</td>\n",
       "      <td>2022-12-27</td>\n",
       "      <td>COLITIS Y GASTROENTERITIS NO INFECCIOSAS</td>\n",
       "      <td>6.0</td>\n",
       "      <td>1986-12-21</td>\n",
       "      <td>MALE</td>\n",
       "      <td>Médica</td>\n",
       "      <td>SOLTERO</td>\n",
       "      <td>2.0</td>\n",
       "      <td>EDITAR_Y_APROBAR</td>\n",
       "      <td>14721.0</td>\n",
       "      <td>Aprobada</td>\n",
       "      <td>GASTROINTESTINAL</td>\n",
       "      <td>360</td>\n",
       "      <td>52</td>\n",
       "      <td>12</td>\n",
       "      <td>VERANO</td>\n",
       "    </tr>\n",
       "  </tbody>\n",
       "</table>\n",
       "</div>"
      ],
      "text/plain": [
       "   numero_licencia          fecha_creacion  dias_solicitados fecha_inicio  \\\n",
       "0                1 2021-01-01 00:10:10.418               2.0   2021-01-01   \n",
       "1              105 2021-01-02 14:14:20.330               2.0   2021-01-02   \n",
       "2           113806 2021-08-26 09:32:09.396               1.0   2021-08-26   \n",
       "3           333787 2022-08-03 20:29:25.519               1.0   2022-08-03   \n",
       "4           428763 2022-12-26 12:41:18.734               2.0   2022-12-26   \n",
       "\n",
       "   fecha_fin                                        diagnostico  \\\n",
       "0 2021-01-01                EFECTOS ADVERSOS DE VACUNAS VIRALES   \n",
       "1 2021-01-03                EFECTOS ADVERSOS DE VACUNAS VIRALES   \n",
       "2 2021-08-26                                       COLELITIASIS   \n",
       "3 2022-08-03  LUMBAGO NO ESPECIFICADO. CONTRACTURA DORSAL IN...   \n",
       "4 2022-12-27           COLITIS Y GASTROENTERITIS NO INFECCIOSAS   \n",
       "\n",
       "   id_diagnostico fecha_nacimiento  genero tipo_licencia estado_civil  \\\n",
       "0             NaN       1979-11-28  FEMALE        Médica         OTRO   \n",
       "1             NaN       1979-11-08  FEMALE        Médica         OTRO   \n",
       "2             NaN       1980-10-25  FEMALE        Médica      SOLTERO   \n",
       "3            22.0       1986-12-01    MALE        Médica      SOLTERO   \n",
       "4             6.0       1986-12-21    MALE        Médica      SOLTERO   \n",
       "\n",
       "   dias_aprobados   decision_medica  id_auditor motivo_rechazo  \\\n",
       "0             2.0  EDITAR_Y_APROBAR     14721.0            NaN   \n",
       "1             2.0  EDITAR_Y_APROBAR     14721.0            NaN   \n",
       "2             0.0          RECHAZAR     14721.0            NaN   \n",
       "3             1.0  EDITAR_Y_APROBAR     14721.0       Aprobada   \n",
       "4             2.0  EDITAR_Y_APROBAR     14721.0       Aprobada   \n",
       "\n",
       "       categoria_diagnostico fecha_creacion_DOY fecha_creacion_WOY  \\\n",
       "0                        NaN                001                 00   \n",
       "1                        NaN                002                 00   \n",
       "2                        NaN                238                 34   \n",
       "3  TRAUMATOLOGIA Y ORTOPEDIA                215                 31   \n",
       "4           GASTROINTESTINAL                360                 52   \n",
       "\n",
       "  fecha_creacion_MOY fecha_creacion_estacion  \n",
       "0                 01                  VERANO  \n",
       "1                 01                  VERANO  \n",
       "2                 08                INVIERNO  \n",
       "3                 08                INVIERNO  \n",
       "4                 12                  VERANO  "
      ]
     },
     "execution_count": 43,
     "metadata": {},
     "output_type": "execute_result"
    }
   ],
   "source": [
    "def get_season(date):\n",
    "    month = date.month\n",
    "    day = date.day\n",
    "\n",
    "    if (month == 12 and day >= 21):\n",
    "        return 'VERANO'\n",
    "    if (month > 9) or (month == 9 and day >= 21):\n",
    "        return 'PRIMAVERA'\n",
    "    elif (month > 6) or (month == 6 and day >= 21):\n",
    "        return 'INVIERNO'\n",
    "    elif (month > 3) or (month == 3 and day >= 21):\n",
    "        return 'OTOÑO'\n",
    "    else:\n",
    "        return 'VERANO'\n",
    "\n",
    "relev_df[\"fecha_creacion_DOY\"] = relev_df[\"fecha_creacion\"].dt.strftime('%j')\n",
    "relev_df[\"fecha_creacion_WOY\"] = relev_df[\"fecha_creacion\"].dt.strftime('%W')\n",
    "relev_df[\"fecha_creacion_MOY\"] = relev_df[\"fecha_creacion\"].dt.strftime('%m')\n",
    "relev_df['fecha_creacion_estacion'] = relev_df[\"fecha_creacion\"].apply(get_season)\n",
    "\n",
    "relev_df.head()"
   ]
  },
  {
   "attachments": {},
   "cell_type": "markdown",
   "metadata": {},
   "source": [
    "### 5) Generación de archivo a partir de dataset"
   ]
  },
  {
   "cell_type": "code",
   "execution_count": 44,
   "metadata": {},
   "outputs": [],
   "source": [
    "relev_df.to_csv(\"licencias_medicas.csv\", index=None)\n"
   ]
  }
 ],
 "metadata": {
  "kernelspec": {
   "display_name": "Python 3",
   "language": "python",
   "name": "python3"
  },
  "language_info": {
   "codemirror_mode": {
    "name": "ipython",
    "version": 3
   },
   "file_extension": ".py",
   "mimetype": "text/x-python",
   "name": "python",
   "nbconvert_exporter": "python",
   "pygments_lexer": "ipython3",
   "version": "3.8.10"
  },
  "orig_nbformat": 4
 },
 "nbformat": 4,
 "nbformat_minor": 2
}
